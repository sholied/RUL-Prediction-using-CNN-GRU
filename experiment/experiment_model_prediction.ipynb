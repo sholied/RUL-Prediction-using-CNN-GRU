{
  "cells": [
    {
      "cell_type": "markdown",
      "metadata": {
        "id": "aMZraf_Pg6cd"
      },
      "source": [
        "In This notebook we utilize the model previously created to run RUL prediction on the engines in the test data files."
      ]
    },
    {
      "cell_type": "code",
      "execution_count": 1,
      "metadata": {
        "id": "ZFeQR1Qrg6cl"
      },
      "outputs": [
        {
          "name": "stderr",
          "output_type": "stream",
          "text": [
            "/Users/lalu/Documents/Project-plus/.venv/lib/python3.9/site-packages/urllib3/__init__.py:35: NotOpenSSLWarning: urllib3 v2 only supports OpenSSL 1.1.1+, currently the 'ssl' module is compiled with 'LibreSSL 2.8.3'. See: https://github.com/urllib3/urllib3/issues/3020\n",
            "  warnings.warn(\n"
          ]
        }
      ],
      "source": [
        "import pandas as pd\n",
        "import numpy as np\n",
        "import math\n",
        "\n",
        "import glob\n",
        "import os\n",
        "from tqdm.notebook import tqdm\n",
        "\n",
        "# Setting seed for reproducability\n",
        "np.random.seed(101)  \n",
        "PYTHONHASHSEED = 0\n",
        "\n",
        "import tensorflow as tf\n",
        "import keras\n",
        "from keras.models import Sequential, load_model\n",
        "from keras.layers import Dense, Dropout, LSTM, GRU, Flatten, Conv1D, MaxPooling1D, Conv2D, MaxPooling2D, TimeDistributed, Masking, Activation, RepeatVector\n",
        "\n",
        "\n",
        "from sklearn import preprocessing\n",
        "import joblib \n",
        "\n",
        "import sys\n",
        "sys.path.insert(0,'../')\n",
        "\n",
        "import seaborn as sns\n",
        "import matplotlib.pyplot as plt\n",
        "%matplotlib inline\n",
        "\n",
        "from data_generator import TSDataGenerator\n",
        "import data_util\n",
        "from util import set_log_dir, rmse, r2_keras\n",
        "from model import *\n",
        "\n"
      ]
    },
    {
      "cell_type": "markdown",
      "metadata": {
        "id": "mpwo-Nztg6co"
      },
      "source": [
        "## Setup"
      ]
    },
    {
      "cell_type": "code",
      "execution_count": 2,
      "metadata": {
        "id": "7TzaXFhvg6cp"
      },
      "outputs": [],
      "source": [
        "DATA_DIR = os.path.abspath(\"../dataset/\")\n",
        "MODEL_DIR = os.path.abspath(\"../model/\")"
      ]
    },
    {
      "cell_type": "code",
      "execution_count": 3,
      "metadata": {
        "id": "OVtsU6MSg6cp"
      },
      "outputs": [],
      "source": [
        "cols = ['id', 'cycle' ]\n",
        "\n",
        "# Three operational setting columns\n",
        "setting_cols = ['setting' + str(i) for i in range(1,4)]\n",
        "cols.extend(setting_cols)\n",
        "\n",
        "# Twenty one sensor columns\n",
        "sensor_cols = ['s' + str(i) for i in range(1,22)]\n",
        "cols.extend(sensor_cols)\n",
        "\n",
        "# The data already comes sorted, but to be on the safe we will \n",
        "# maintain an order based on engine and cycle and ascending cycle.\n",
        "sort_cols = ['id','cycle']\n"
      ]
    },
    {
      "cell_type": "markdown",
      "metadata": {
        "id": "BJFHrbg6g6cq"
      },
      "source": [
        "### Load Model"
      ]
    },
    {
      "cell_type": "code",
      "execution_count": 4,
      "metadata": {
        "id": "AC_Z3xfog6cr"
      },
      "outputs": [],
      "source": [
        "# Feature columns. \n",
        "feature_cols = ['cycle_norm', 'condition']\n",
        "\n",
        "# Label columns\n",
        "label_cols = ['RUL']\n",
        "\n",
        "# Three operational setting columns\n",
        "setting_cols = ['setting' + str(i) for i in range(1,4)]\n",
        "feature_cols.extend(setting_cols)\n",
        "\n",
        "# Twenty one sensor columns\n",
        "sensor_cols = ['s' + str(i) for i in range(1,22)]\n",
        "feature_cols.extend(sensor_cols)\n"
      ]
    },
    {
      "cell_type": "markdown",
      "metadata": {
        "id": "RzkloY4Zg6cs"
      },
      "source": [
        "Keras requires that you use same batch size in predicting as you used when training. Here we will create the same model, but parameterize the shapes. This will allow us to specify a model with a batch size of 1. "
      ]
    },
    {
      "cell_type": "code",
      "execution_count": 5,
      "metadata": {
        "colab": {
          "base_uri": "https://localhost:8080/"
        },
        "id": "OiEvaeB_g6cv",
        "outputId": "7072ca34-33c2-4a52-a191-58cec064e25d"
      },
      "outputs": [
        {
          "name": "stdout",
          "output_type": "stream",
          "text": [
            "Loading model:  /Users/lalu/Documents/Project-plus/RUL-Prediction-using-CNN-GRU/model/engine20220331T2125/engine_model.h5\n",
            "Model: \"sequential\"\n",
            "_________________________________________________________________\n",
            " Layer (type)                Output Shape              Param #   \n",
            "=================================================================\n",
            " gru (GRU)                   (512, 256)                218112    \n",
            "                                                                 \n",
            " dense (Dense)               (512, 64)                 16448     \n",
            "                                                                 \n",
            " dense_1 (Dense)             (512, 32)                 2080      \n",
            "                                                                 \n",
            " dense_2 (Dense)             (512, 1)                  33        \n",
            "                                                                 \n",
            "=================================================================\n",
            "Total params: 236673 (924.50 KB)\n",
            "Trainable params: 236673 (924.50 KB)\n",
            "Non-trainable params: 0 (0.00 Byte)\n",
            "_________________________________________________________________\n"
          ]
        }
      ],
      "source": [
        "sequence_length = 25              # Size of the series time window.\n",
        "batch_size = 1                    # Number of time series sequences that will predict on\n",
        "num_features = len(feature_cols)\n",
        "num_labels = len(label_cols)\n",
        "\n",
        "model_path = sorted(glob.glob(MODEL_DIR+\"/*/*.h5\"), reverse=True)[1]\n",
        "print(\"Loading model: \", model_path)\n",
        "\n",
        "num_gru = 1\n",
        "\n",
        "inf_model =model_gru(num_gru, sequence_length, num_features, num_labels)\n",
        "inf_model.load_weights(model_path)\n",
        "custom_objects={'rmse':rmse, 'r2_keras':r2_keras}\n",
        "inf_model = load_model(model_path, custom_objects=custom_objects)\n",
        "\n",
        "inf_model.summary()\n"
      ]
    },
    {
      "cell_type": "markdown",
      "metadata": {
        "id": "p080BdcCg6cw"
      },
      "source": [
        "### Load Pipeline\n"
      ]
    },
    {
      "cell_type": "code",
      "execution_count": 6,
      "metadata": {
        "colab": {
          "base_uri": "https://localhost:8080/"
        },
        "id": "ko3nhqNIg6cx",
        "outputId": "3c483d92-c61c-40ec-aae4-a72b6c882e5f"
      },
      "outputs": [
        {
          "name": "stdout",
          "output_type": "stream",
          "text": [
            "Loading pipeline:  /Users/lalu/Documents/Project-plus/RUL-Prediction-using-CNN-GRU/model/engine20220331T2125/engine_pipeline.pkl\n"
          ]
        }
      ],
      "source": [
        "pipeline_path = sorted(glob.glob(MODEL_DIR+\"/*/*.pkl\"), reverse=True)[1]\n",
        "print(\"Loading pipeline: \", pipeline_path)\n",
        "\n",
        "pipeline = joblib.load(pipeline_path) \n",
        "\n",
        "# from sklearn.pipeline import Pipeline\n",
        "# from sklearn import preprocessing\n",
        "\n",
        "# pipeline = Pipeline(steps=[\n",
        "#     # The default activation function for LSTM tanh, so we'll use a range of [-1,1].\n",
        "#     ('min_max_scaler', preprocessing.MinMaxScaler(feature_range=(-1, 1)))\n",
        "# ])\n"
      ]
    },
    {
      "cell_type": "markdown",
      "metadata": {
        "id": "gQz-isVkg6cy"
      },
      "source": [
        "## Prediction"
      ]
    },
    {
      "cell_type": "markdown",
      "metadata": {
        "id": "mFpyQl67g6cy"
      },
      "source": [
        "We will iterate over all the test files to run a prediction on a single batch for each engine's containing its last sequence_length events."
      ]
    },
    {
      "cell_type": "code",
      "execution_count": 7,
      "metadata": {
        "colab": {
          "base_uri": "https://localhost:8080/"
        },
        "id": "5DLZtSR8g6cz",
        "outputId": "3e1211d3-46d7-4896-df62-5c55343758ee"
      },
      "outputs": [
        {
          "data": {
            "text/plain": [
              "['/Users/lalu/Documents/Project-plus/RUL-Prediction-using-CNN-GRU/dataset/test_FD001.txt',\n",
              " '/Users/lalu/Documents/Project-plus/RUL-Prediction-using-CNN-GRU/dataset/test_FD002.txt',\n",
              " '/Users/lalu/Documents/Project-plus/RUL-Prediction-using-CNN-GRU/dataset/test_FD003.txt',\n",
              " '/Users/lalu/Documents/Project-plus/RUL-Prediction-using-CNN-GRU/dataset/test_FD004.txt']"
            ]
          },
          "execution_count": 7,
          "metadata": {},
          "output_type": "execute_result"
        }
      ],
      "source": [
        "path = os.path.join(DATA_DIR, \"test_FD*.txt\")\n",
        "all_test_files = sorted(glob.glob(path))\n",
        "\n",
        "path = os.path.join(DATA_DIR, \"RUL_FD*.txt\")\n",
        "all_rul_files = sorted(glob.glob(path))\n",
        "\n",
        "all_test_files"
      ]
    },
    {
      "cell_type": "code",
      "execution_count": 9,
      "metadata": {
        "colab": {
          "base_uri": "https://localhost:8080/",
          "height": 284,
          "referenced_widgets": [
            "4bf44dc8784e4deab956573cdf889667",
            "49a0c05f11c84e5ba5d866e143f00bcb",
            "9faa13bd47934358a0fd6cedce44ab96",
            "d4ba4698ce4b4db3b8ee8da9cc38d5d3",
            "fb393a0e34cc4393be9b255352fbc1eb",
            "63527bfc2731485e82e03841671444f0",
            "7a5579ba8fd0488696ee7ff37b59e9e7",
            "6f529fd2e2a54d1e898456880d6f83b3",
            "f2bed39e73ab4e749843410ffc21e71d",
            "5db42a132e12422e9cd017ebdf5d84ba",
            "a45d2f0e12a34fcdb312d31c0e5f1db2",
            "a69eeca0278748dfbc78c56bb7b7a17c",
            "a64d43b1c4a84e2691a7eb0fa2d4aada",
            "dbdc99a1d1aa441bbc874f2ea73630d0",
            "256dfb3cd25446499fe3b8f2db16f1db",
            "39e6521e40794ead8a234fb919b50e18",
            "f73908c6b24a47b9b7126cd4d38de072",
            "05667e126aea491ea710e47b26f18ddc",
            "605c935b7a314e12afba16888e57c58e",
            "9f5967232fc348f9b1d63611b51e4ad5",
            "244e2c45d4b244668a9c3122eb63314d",
            "efb5f65e71d840f9b41d31762414d9ea",
            "2f21ca72f62c44cd8b455fa3983727d1",
            "1749d9938ead421cb992a1f5442f9dfc",
            "0a9f0814b8ff4d99bc002a14110a5816",
            "a07b5dc68ed540bf8cac3a8b5dd9ee9f",
            "58346042206c4c6fa57b1b7958ec8335",
            "619bbaa983844f5fbd78198a867e7ead",
            "afdec27efcc143188adaa81216738649",
            "be81164bc26f46ad850d57d2b0755586",
            "9b036d05130f461fbb30bc92c3261d01",
            "5b2f53d816c24b71825bae8e5690da0f",
            "42a4f3a4e5384f748cea8148aaf8ca8d",
            "b3f99abfd1394ea38a1eb1c927db1946",
            "9fe6ca403ce34a69959d7781a68b5737",
            "31b90135fc5f4beaa93ba6c9f776baef",
            "91d7628b68fc45a8870116bec5d8a426",
            "cbe7c34cd70d46f7b9c3f143c9984887",
            "1f5b0c10f2e44b80bd219b7a58c22196",
            "f7bee36f9ab541dbab6c00c1ce130262",
            "4f22bacb543042249cffa91e08d58cb2",
            "8cf2e5db47da4fa78387e574c4a2a849",
            "64cdfab4c3db4315ad17124203d7da8a",
            "00f15dd0eb424b8d8bb41d6e369024c4"
          ]
        },
        "id": "Jr-AwHDzg6cz",
        "outputId": "61cd5a74-a78d-4f0a-f412-fc9e0c7a6b91"
      },
      "outputs": [
        {
          "data": {
            "application/vnd.jupyter.widget-view+json": {
              "model_id": "5776eb6e5cb54c7e98e064ba9f135c0a",
              "version_major": 2,
              "version_minor": 0
            },
            "text/plain": [
              "  0%|          | 0/100 [00:00<?, ?it/s]"
            ]
          },
          "metadata": {},
          "output_type": "display_data"
        },
        {
          "data": {
            "application/vnd.jupyter.widget-view+json": {
              "model_id": "ba51a545a0dc4b06b7cae66ea9125947",
              "version_major": 2,
              "version_minor": 0
            },
            "text/plain": [
              "  0%|          | 0/259 [00:00<?, ?it/s]"
            ]
          },
          "metadata": {},
          "output_type": "display_data"
        },
        {
          "data": {
            "application/vnd.jupyter.widget-view+json": {
              "model_id": "4b90e67621304a0dbcb5cfc6870860f4",
              "version_major": 2,
              "version_minor": 0
            },
            "text/plain": [
              "  0%|          | 0/100 [00:00<?, ?it/s]"
            ]
          },
          "metadata": {},
          "output_type": "display_data"
        },
        {
          "data": {
            "application/vnd.jupyter.widget-view+json": {
              "model_id": "ac317c9c37e44992860b8f4b2e7e03da",
              "version_major": 2,
              "version_minor": 0
            },
            "text/plain": [
              "  0%|          | 0/248 [00:00<?, ?it/s]"
            ]
          },
          "metadata": {},
          "output_type": "display_data"
        }
      ],
      "source": [
        "test_prediction_results = []\n",
        "\n",
        "for i, test_X_path in enumerate(all_test_files):\n",
        "    # Read in the features\n",
        "    test_df = data_util.load_data([test_X_path], cols, sort_cols)\n",
        "\n",
        "    # Read in the labels (RUL)\n",
        "    test_rul_df = data_util.load_rul_data([all_rul_files[i]], ['id', 'RUL_actual'])\n",
        "\n",
        "    # Calculate the RUL and merge back to the test dataframe\n",
        "    test_df = data_util.calc_test_rul(test_df, test_rul_df)\n",
        "\n",
        "    # # Transform\n",
        "    test_df = data_util.transform(test_df, pipeline)\n",
        "    \n",
        "    results = []\n",
        "\n",
        "    for engine_id in tqdm(test_df['id'].unique()):\n",
        "        engine_df = test_df[ test_df['id'] == engine_id]\n",
        "\n",
        "        # The last sequence_length entries are used for the batch.\n",
        "        # Skip the engines with less then sequence_length for now.\n",
        "        # TODO support padding\n",
        "        if engine_df.shape[0] > sequence_length:\n",
        "            last_batch = engine_df[feature_cols].iloc[-sequence_length:].values.reshape(batch_size, sequence_length, num_features)\n",
        "            rul = engine_df['RUL'].iloc[-1:].values[0]\n",
        "            prediction = inf_model.predict_on_batch(last_batch)[0,0]\n",
        "\n",
        "            results.append([engine_id, prediction, rul, prediction-rul])\n",
        "            \n",
        "    test_prediction_results.append(np.array(results))\n",
        "    "
      ]
    },
    {
      "cell_type": "markdown",
      "metadata": {
        "id": "CqAqnDOUg6c0"
      },
      "source": [
        "Plot the results by engine id. Those predictions above zero have over-estimated the actual RUL, while those below zero under-estimate the RUL. It is preferable to be less optimistic."
      ]
    },
    {
      "cell_type": "code",
      "execution_count": 10,
      "metadata": {
        "colab": {
          "base_uri": "https://localhost:8080/",
          "height": 266
        },
        "id": "0wVFnnXmg6c0",
        "outputId": "4c2d37be-238e-4736-aa83-c2bb441a9bfb",
        "scrolled": false
      },
      "outputs": [
        {
          "data": {
            "image/png": "[encoded data removed]",
            "text/plain": [
              "<Figure size 2000x400 with 4 Axes>"
            ]
          },
          "metadata": {},
          "output_type": "display_data"
        }
      ],
      "source": [
        "sns.set_style('darkgrid')\n",
        "\n",
        "fig = plt.figure(figsize=(20, 4))\n",
        "for i, r in enumerate(test_prediction_results):\n",
        "    ax = plt.subplot(1, 4, i+1)\n",
        "    # Subtract the base to show the original engine id\n",
        "    ax.scatter(r[:,0] - data_util.path_to_id_base(all_test_files[i]), r[:,3], marker='.',)\n",
        "    ax.set_ylim(-100, 140)\n",
        "    ax.set_xlabel(\"Engine Id\")\n",
        "    ax.set_ylabel(\"Prediction - RUL\")\n",
        "    ax.set_title(os.path.basename(all_test_files[i]))\n",
        "\n",
        "    ax.axhline(y=0, color='r', marker='.')\n",
        "\n",
        "plt.tight_layout()\n",
        "plt.show()"
      ]
    },
    {
      "cell_type": "markdown",
      "metadata": {
        "id": "aL3D-ipQg6c1"
      },
      "source": [
        "The histogram illustrates the bins that the differences fall in."
      ]
    },
    {
      "cell_type": "code",
      "execution_count": 11,
      "metadata": {
        "colab": {
          "base_uri": "https://localhost:8080/",
          "height": 381
        },
        "id": "1Ucz9E2zg6c1",
        "outputId": "cc0867ec-681d-4e38-c66a-d91d04bc330e"
      },
      "outputs": [
        {
          "name": "stderr",
          "output_type": "stream",
          "text": [
            "/var/folders/b7/hg813cjd6151wzlnz64tbqbm0000gn/T/ipykernel_25828/2675309004.py:6: UserWarning: \n",
            "\n",
            "`distplot` is a deprecated function and will be removed in seaborn v0.14.0.\n",
            "\n",
            "Please adapt your code to use either `displot` (a figure-level function with\n",
            "similar flexibility) or `histplot` (an axes-level function for histograms).\n",
            "\n",
            "For a guide to updating your code to use the new functions, please see\n",
            "https://gist.github.com/mwaskom/de44147ed2974457ad6372750bbe5751\n",
            "\n",
            "  sns.distplot(r[:,3], ax=ax2)\n",
            "/var/folders/b7/hg813cjd6151wzlnz64tbqbm0000gn/T/ipykernel_25828/2675309004.py:6: UserWarning: \n",
            "\n",
            "`distplot` is a deprecated function and will be removed in seaborn v0.14.0.\n",
            "\n",
            "Please adapt your code to use either `displot` (a figure-level function with\n",
            "similar flexibility) or `histplot` (an axes-level function for histograms).\n",
            "\n",
            "For a guide to updating your code to use the new functions, please see\n",
            "https://gist.github.com/mwaskom/de44147ed2974457ad6372750bbe5751\n",
            "\n",
            "  sns.distplot(r[:,3], ax=ax2)\n",
            "/var/folders/b7/hg813cjd6151wzlnz64tbqbm0000gn/T/ipykernel_25828/2675309004.py:6: UserWarning: \n",
            "\n",
            "`distplot` is a deprecated function and will be removed in seaborn v0.14.0.\n",
            "\n",
            "Please adapt your code to use either `displot` (a figure-level function with\n",
            "similar flexibility) or `histplot` (an axes-level function for histograms).\n",
            "\n",
            "For a guide to updating your code to use the new functions, please see\n",
            "https://gist.github.com/mwaskom/de44147ed2974457ad6372750bbe5751\n",
            "\n",
            "  sns.distplot(r[:,3], ax=ax2)\n",
            "/var/folders/b7/hg813cjd6151wzlnz64tbqbm0000gn/T/ipykernel_25828/2675309004.py:6: UserWarning: \n",
            "\n",
            "`distplot` is a deprecated function and will be removed in seaborn v0.14.0.\n",
            "\n",
            "Please adapt your code to use either `displot` (a figure-level function with\n",
            "similar flexibility) or `histplot` (an axes-level function for histograms).\n",
            "\n",
            "For a guide to updating your code to use the new functions, please see\n",
            "https://gist.github.com/mwaskom/de44147ed2974457ad6372750bbe5751\n",
            "\n",
            "  sns.distplot(r[:,3], ax=ax2)\n"
          ]
        },
        {
          "data": {
            "image/png": "[encoded data removed]",
            "text/plain": [
              "<Figure size 2000x600 with 4 Axes>"
            ]
          },
          "metadata": {},
          "output_type": "display_data"
        }
      ],
      "source": [
        "sns.set_style('darkgrid')\n",
        "\n",
        "fig = plt.figure(figsize=(20, 6))\n",
        "for i, r in enumerate(test_prediction_results):\n",
        "    ax2 = plt.subplot(2, 4, i+5)\n",
        "    sns.distplot(r[:,3], ax=ax2)\n",
        "    ax2.set_title(os.path.basename(all_test_files[i]))\n",
        "\n",
        "\n",
        "plt.tight_layout()\n",
        "plt.show()"
      ]
    },
    {
      "cell_type": "markdown",
      "metadata": {
        "id": "4XNua5L0g6c1"
      },
      "source": [
        "Let's plot a single file for a close-up view."
      ]
    },
    {
      "cell_type": "code",
      "execution_count": 12,
      "metadata": {
        "id": "o36GjpWZg6c2"
      },
      "outputs": [],
      "source": [
        "file_index = 1  # 1 is test_FD002\n",
        "results = test_prediction_results[file_index]\n",
        "base_id = data_util.path_to_id_base(all_test_files[file_index])"
      ]
    },
    {
      "cell_type": "code",
      "execution_count": 13,
      "metadata": {
        "colab": {
          "base_uri": "https://localhost:8080/",
          "height": 295
        },
        "id": "D_luhanPg6c2",
        "outputId": "bc11b45f-1751-4e7d-898f-598e54c77b7e"
      },
      "outputs": [
        {
          "data": {
            "image/png": "[encoded data removed]",
            "text/plain": [
              "<Figure size 1000x400 with 1 Axes>"
            ]
          },
          "metadata": {},
          "output_type": "display_data"
        }
      ],
      "source": [
        "fig = plt.figure(figsize=(10, 4))\n",
        "plt.scatter(results[:,0] - base_id, results[:,3], marker='.', label=\"Diff\")\n",
        "plt.xlabel(\"Engine Id\")\n",
        "plt.ylabel(\"Prediction - RUL\")\n",
        "plt.title(os.path.basename(all_test_files[file_index]))\n",
        "\n",
        "plt.axhline(y=0, color='r', marker='.')\n",
        "\n",
        "plt.show()\n"
      ]
    },
    {
      "cell_type": "markdown",
      "metadata": {
        "id": "lyviH1hpg6c3"
      },
      "source": [
        "This is another view based on the RUL. The red line indicates what perfect prediction would have looked like. The majority of the predictions were optimistic."
      ]
    },
    {
      "cell_type": "code",
      "execution_count": 14,
      "metadata": {
        "colab": {
          "base_uri": "https://localhost:8080/",
          "height": 404
        },
        "id": "7GCUu-Jxg6c3",
        "outputId": "f075059e-b0a3-4dd4-e54f-06c5164aec27"
      },
      "outputs": [
        {
          "data": {
            "image/png": "[encoded data removed]",
            "text/plain": [
              "<Figure size 600x600 with 1 Axes>"
            ]
          },
          "metadata": {},
          "output_type": "display_data"
        }
      ],
      "source": [
        "fig = plt.figure(figsize=(6, 6))\n",
        "plt.scatter(results[:,2], results[:,1], marker='.')\n",
        "plt.plot(results[:,2], results[:,2], 'r')\n",
        "plt.xlabel(\"RUL actual\")\n",
        "plt.ylabel(\"RUL predicted\")\n",
        "plt.title(os.path.basename(all_test_files[file_index]))\n",
        "\n",
        "plt.show()\n"
      ]
    },
    {
      "cell_type": "markdown",
      "metadata": {
        "id": "NRclkWIXg6c3"
      },
      "source": [
        "Show the prediction of 3 randomly selected engines from each test file."
      ]
    },
    {
      "cell_type": "code",
      "execution_count": 15,
      "metadata": {
        "id": "my-JDYcAg6c4"
      },
      "outputs": [],
      "source": [
        "test_prediction_results = []\n",
        "\n",
        "for i, test_X_path in enumerate(all_test_files):\n",
        "    # Read in the features\n",
        "    test_df = data_util.load_data([test_X_path], cols, sort_cols)\n",
        "\n",
        "    # Read in the labels (RUL)\n",
        "    test_rul_df = data_util.load_rul_data([all_rul_files[i]], ['id', 'RUL_actual'])\n",
        "\n",
        "    # Calculate the RUL and merge back to the test dataframe\n",
        "    test_df = data_util.calc_test_rul(test_df, test_rul_df)\n",
        "\n",
        "    # Transform\n",
        "    test_df = data_util.transform(test_df, pipeline)\n",
        "    \n",
        "    results = []\n",
        "    \n",
        "    # Filter out those two small to fit a complete sequence. See padding\n",
        "    candidates = pd.DataFrame(test_df.groupby('id')['cycle'].max()).reset_index()\n",
        "    candidates = candidates[ candidates['cycle'] >= sequence_length ]\n",
        "\n",
        "    engine_ids = np.random.choice(candidates['id'], 3)\n",
        "    for engine_id in engine_ids:\n",
        "        engine_df = test_df[ test_df['id'] == engine_id]\n",
        "        \n",
        "        start_idx = 0\n",
        "        end_idx = start_idx + sequence_length\n",
        "        while end_idx < engine_df.shape[0]:\n",
        "            \n",
        "            last_batch = engine_df[feature_cols].iloc[start_idx:end_idx].values.reshape(batch_size, sequence_length, num_features)\n",
        "            rul = engine_df['RUL'].iloc[end_idx]\n",
        "            cycle = engine_df['cycle'].iloc[end_idx]\n",
        "\n",
        "            prediction = inf_model.predict_on_batch(last_batch)[0,0]\n",
        "\n",
        "            results.append([engine_id, cycle, prediction, rul])\n",
        "            \n",
        "            start_idx += 1\n",
        "            end_idx += 1\n",
        "                        \n",
        "        test_prediction_results.append(np.array(results))\n",
        "        results = []\n",
        "\n",
        "    "
      ]
    },
    {
      "cell_type": "code",
      "execution_count": 16,
      "metadata": {
        "colab": {
          "base_uri": "https://localhost:8080/"
        },
        "id": "ldOcWLq5f-uB",
        "outputId": "8d252f4f-c7a8-4481-9d2b-1c12741b338c"
      },
      "outputs": [
        {
          "data": {
            "text/plain": [
              "0"
            ]
          },
          "execution_count": 16,
          "metadata": {},
          "output_type": "execute_result"
        }
      ],
      "source": [
        "len(results)"
      ]
    },
    {
      "cell_type": "code",
      "execution_count": 17,
      "metadata": {
        "colab": {
          "base_uri": "https://localhost:8080/"
        },
        "id": "5x1J5dSfg5kI",
        "outputId": "9fc387c3-55f7-4bfc-d47d-b0d259e9e45c"
      },
      "outputs": [
        {
          "data": {
            "text/plain": [
              "12"
            ]
          },
          "execution_count": 17,
          "metadata": {},
          "output_type": "execute_result"
        }
      ],
      "source": [
        "len(test_prediction_results)"
      ]
    },
    {
      "cell_type": "code",
      "execution_count": 18,
      "metadata": {
        "colab": {
          "base_uri": "https://localhost:8080/"
        },
        "id": "lVxJgk6Mf5uS",
        "outputId": "8db24286-70cd-4e2e-f2d2-0acf0007fdbb"
      },
      "outputs": [
        {
          "data": {
            "text/plain": [
              "72"
            ]
          },
          "execution_count": 18,
          "metadata": {},
          "output_type": "execute_result"
        }
      ],
      "source": [
        "len(test_prediction_results[0])"
      ]
    },
    {
      "cell_type": "code",
      "execution_count": 19,
      "metadata": {
        "colab": {
          "base_uri": "https://localhost:8080/"
        },
        "id": "DegOYUlJgwa-",
        "outputId": "5ec445c5-1689-44b8-d5ba-a0d6b84c88f9"
      },
      "outputs": [
        {
          "data": {
            "text/plain": [
              "4"
            ]
          },
          "execution_count": 19,
          "metadata": {},
          "output_type": "execute_result"
        }
      ],
      "source": [
        "len(test_prediction_results[0][0])"
      ]
    },
    {
      "cell_type": "code",
      "execution_count": 20,
      "metadata": {
        "colab": {
          "base_uri": "https://localhost:8080/"
        },
        "id": "eF2cGJF_gLKV",
        "outputId": "aeabe9fa-df4e-4330-d3d6-64dc9bcdf36f"
      },
      "outputs": [
        {
          "data": {
            "text/plain": [
              "array([[5096.        ,   26.        ,  192.50190735,  208.        ],\n",
              "       [5096.        ,   27.        ,  192.27183533,  207.        ],\n",
              "       [5096.        ,   28.        ,  191.77784729,  206.        ],\n",
              "       [5096.        ,   29.        ,  191.03340149,  205.        ],\n",
              "       [5096.        ,   30.        ,  190.85368347,  204.        ],\n",
              "       [5096.        ,   31.        ,  190.22644043,  203.        ],\n",
              "       [5096.        ,   32.        ,  190.48513794,  202.        ],\n",
              "       [5096.        ,   33.        ,  191.10624695,  201.        ],\n",
              "       [5096.        ,   34.        ,  191.46084595,  200.        ],\n",
              "       [5096.        ,   35.        ,  191.47187805,  199.        ],\n",
              "       [5096.        ,   36.        ,  190.86981201,  198.        ],\n",
              "       [5096.        ,   37.        ,  191.60725403,  197.        ],\n",
              "       [5096.        ,   38.        ,  191.38104248,  196.        ],\n",
              "       [5096.        ,   39.        ,  190.14910889,  195.        ],\n",
              "       [5096.        ,   40.        ,  189.71942139,  194.        ],\n",
              "       [5096.        ,   41.        ,  189.3563385 ,  193.        ],\n",
              "       [5096.        ,   42.        ,  188.73345947,  192.        ],\n",
              "       [5096.        ,   43.        ,  188.79660034,  191.        ],\n",
              "       [5096.        ,   44.        ,  188.83947754,  190.        ],\n",
              "       [5096.        ,   45.        ,  187.82087708,  189.        ],\n",
              "       [5096.        ,   46.        ,  187.69657898,  188.        ],\n",
              "       [5096.        ,   47.        ,  187.91995239,  187.        ],\n",
              "       [5096.        ,   48.        ,  187.71951294,  186.        ],\n",
              "       [5096.        ,   49.        ,  188.03977966,  185.        ],\n",
              "       [5096.        ,   50.        ,  187.50856018,  184.        ],\n",
              "       [5096.        ,   51.        ,  186.18583679,  183.        ],\n",
              "       [5096.        ,   52.        ,  186.21263123,  182.        ],\n",
              "       [5096.        ,   53.        ,  187.07821655,  181.        ],\n",
              "       [5096.        ,   54.        ,  187.76144409,  180.        ],\n",
              "       [5096.        ,   55.        ,  187.59811401,  179.        ],\n",
              "       [5096.        ,   56.        ,  187.00811768,  178.        ],\n",
              "       [5096.        ,   57.        ,  187.15556335,  177.        ],\n",
              "       [5096.        ,   58.        ,  186.6987915 ,  176.        ],\n",
              "       [5096.        ,   59.        ,  187.26992798,  175.        ],\n",
              "       [5096.        ,   60.        ,  187.11471558,  174.        ],\n",
              "       [5096.        ,   61.        ,  185.70626831,  173.        ],\n",
              "       [5096.        ,   62.        ,  184.51817322,  172.        ],\n",
              "       [5096.        ,   63.        ,  185.60533142,  171.        ],\n",
              "       [5096.        ,   64.        ,  184.95692444,  170.        ],\n",
              "       [5096.        ,   65.        ,  184.24897766,  169.        ],\n",
              "       [5096.        ,   66.        ,  183.84500122,  168.        ],\n",
              "       [5096.        ,   67.        ,  183.28570557,  167.        ],\n",
              "       [5096.        ,   68.        ,  183.30725098,  166.        ],\n",
              "       [5096.        ,   69.        ,  183.78822327,  165.        ],\n",
              "       [5096.        ,   70.        ,  183.69436646,  164.        ],\n",
              "       [5096.        ,   71.        ,  183.63687134,  163.        ],\n",
              "       [5096.        ,   72.        ,  182.81594849,  162.        ],\n",
              "       [5096.        ,   73.        ,  182.31634521,  161.        ],\n",
              "       [5096.        ,   74.        ,  182.92286682,  160.        ],\n",
              "       [5096.        ,   75.        ,  181.98866272,  159.        ],\n",
              "       [5096.        ,   76.        ,  182.24649048,  158.        ],\n",
              "       [5096.        ,   77.        ,  182.77037048,  157.        ],\n",
              "       [5096.        ,   78.        ,  181.09031677,  156.        ],\n",
              "       [5096.        ,   79.        ,  180.94944763,  155.        ],\n",
              "       [5096.        ,   80.        ,  179.72367859,  154.        ],\n",
              "       [5096.        ,   81.        ,  180.8197937 ,  153.        ],\n",
              "       [5096.        ,   82.        ,  181.84165955,  152.        ],\n",
              "       [5096.        ,   83.        ,  181.23071289,  151.        ],\n",
              "       [5096.        ,   84.        ,  180.55726624,  150.        ],\n",
              "       [5096.        ,   85.        ,  180.29936218,  149.        ],\n",
              "       [5096.        ,   86.        ,  180.15644836,  148.        ],\n",
              "       [5096.        ,   87.        ,  180.05226135,  147.        ],\n",
              "       [5096.        ,   88.        ,  180.09509277,  146.        ],\n",
              "       [5096.        ,   89.        ,  178.6353302 ,  145.        ],\n",
              "       [5096.        ,   90.        ,  178.63806152,  144.        ],\n",
              "       [5096.        ,   91.        ,  178.36576843,  143.        ],\n",
              "       [5096.        ,   92.        ,  178.41947937,  142.        ],\n",
              "       [5096.        ,   93.        ,  178.64971924,  141.        ],\n",
              "       [5096.        ,   94.        ,  178.11820984,  140.        ],\n",
              "       [5096.        ,   95.        ,  178.52416992,  139.        ],\n",
              "       [5096.        ,   96.        ,  177.41494751,  138.        ],\n",
              "       [5096.        ,   97.        ,  176.94987488,  137.        ]])"
            ]
          },
          "execution_count": 20,
          "metadata": {},
          "output_type": "execute_result"
        }
      ],
      "source": [
        "test_prediction_results[0]"
      ]
    },
    {
      "cell_type": "code",
      "execution_count": 21,
      "metadata": {
        "id": "jnQKvbiyg6c4",
        "scrolled": false
      },
      "outputs": [],
      "source": [
        "\n",
        "def display_engine_prediction(prediction_results):\n",
        "    \"\"\" Plots prediction results for a set of engines.\n",
        "    \n",
        "    Args:\n",
        "    prediction_results (list) - List of engine arrays of shape (cycle, 4). Where\n",
        "    the columns represent engine_id, cycle, prediction, RUL.\n",
        "    \n",
        "    \"\"\"\n",
        "        \n",
        "    # Total plots \n",
        "    n = len(prediction_results)\n",
        "     \n",
        "    ncols = max(n//3,1)\n",
        "    nrows = math.ceil(n/ncols)\n",
        "        \n",
        "    fig = plt.figure(figsize=(20, 10))\n",
        "    \n",
        "    for i, r in enumerate(prediction_results):\n",
        "        \n",
        "        engine_id = r[0,0]\n",
        "        cycle = r[:,1]\n",
        "        prediction = r[:,2]\n",
        "        rul = r[:,3]\n",
        "\n",
        "        ax = plt.subplot(nrows, ncols, i+1)\n",
        "\n",
        "        l1, = ax.plot( cycle, rul, label='RUL')\n",
        "        l2, = ax.plot( cycle, prediction, label='Prediction')\n",
        "        ax.set_xlabel('cycle')\n",
        "        ax.set_ylabel('RUL')\n",
        "        ax.set_ylim(0)\n",
        "        plt.title(\"Engine: {:.0f}\".format(engine_id))\n",
        "                \n",
        "    fig.legend((l1,l2), ('Actual', 'Prediction'), 'upper right')\n",
        "    plt.tight_layout()\n",
        "    \n",
        "    plt.show()"
      ]
    },
    {
      "cell_type": "code",
      "execution_count": 22,
      "metadata": {
        "colab": {
          "base_uri": "https://localhost:8080/",
          "height": 654
        },
        "id": "GMmPZDjog6c4",
        "outputId": "bd79012b-63f6-4d54-e813-8ab577b2a41f"
      },
      "outputs": [
        {
          "name": "stderr",
          "output_type": "stream",
          "text": [
            "/var/folders/b7/hg813cjd6151wzlnz64tbqbm0000gn/T/ipykernel_25828/3446140717.py:34: MatplotlibDeprecationWarning: Passing the loc parameter of __init__() positionally is deprecated since Matplotlib 3.6; the parameter will become keyword-only two minor releases later.\n",
            "  fig.legend((l1,l2), ('Actual', 'Prediction'), 'upper right')\n"
          ]
        },
        {
          "data": {
            "image/png": "[encoded data removed]",
            "text/plain": [
              "<Figure size 2000x1000 with 12 Axes>"
            ]
          },
          "metadata": {},
          "output_type": "display_data"
        }
      ],
      "source": [
        "display_engine_prediction(test_prediction_results)"
      ]
    },
    {
      "cell_type": "code",
      "execution_count": 23,
      "metadata": {
        "colab": {
          "base_uri": "https://localhost:8080/",
          "height": 284,
          "referenced_widgets": [
            "bdc0034dc36e47a3bdf7a542a0ca7be4",
            "9671e2c2647843cdbc9cc71843991788",
            "8d3613a33a5b43619def24fe8c108e65",
            "b3b02ab758104a42b8de8cb9f5c9faf6",
            "a4475925392e45bbb67d168819f149dc",
            "d369f8b9a2f14bdeb5d3f28617d24639",
            "1cd1678b3b0a421eb52ab7f264af4580",
            "0f3c8c50c4a042a9b13e5172d0fac7be",
            "e5cba61d864e416d986d0e33a9164560",
            "8eaca10c8f024fab8952e1d96d85e4c7",
            "5e13fe2dff02414b8111bf8d5c99da90",
            "8e386b6d080c4e9d887a15abd1040fc3",
            "0b6f5bca0cc64aa7b92107b0906d29ef",
            "54b1dbea726c4d7a80d1a6e22153b0d1",
            "9fd4828cc89d4841ab6f3a3e6c538da9",
            "ab6839061aea4a1db082d14bb93d2490",
            "cf3e8fdf34c64eb99d52ddd6bdf55500",
            "686586734e3548fdb98fcc72e344e685",
            "fa917db5ec2a4edcac34ed59054e0189",
            "658515acec5944de928cc164daabb861",
            "9957f5f56add4e5a8cb074cddc52b13e",
            "89bb4827b0ef463caec7adaff95af901",
            "8e4f65ed8af14c56a7b632e69eaf8b15",
            "c94262041d4643b3b3ba4dd21898bf09",
            "e62dd16117264c5995ac6cc64f1e3442",
            "710f48d47d2e4a37870a7c27707c87d5",
            "0a5d13a253d649a8b8d3552c2ad40466",
            "1fe863a29c7d41e29859dbfef700c0fe",
            "d1ea038686994da08a779a9476411084",
            "7bf8676ed1f041f8bd2d438acde920ba",
            "b196981b68a74b01972f7de4ba311f87",
            "f1ae5ac6a28b4c86b49419329f730783",
            "c082e8e1f45b4539bcd05e97c066d8c3",
            "18d0e7156772424b9452b713177de488",
            "98bb67b924444a2a862a55c668fb4a35",
            "1b272ad3564b45febdc71cb81f50ac02",
            "1ea0fa8910654a46b05dc819d527cb6d",
            "51e62c1c9ba54b89b661f64de974cb56",
            "f262affb5f244f04aef08fbf08751d38",
            "126889e507b44eca8474314202fd0442",
            "252ef3c2472c42b2a88cf5e0558c0854",
            "8cab7b0c640e44a08264b4fb35bf7b53",
            "e3b5a43aefc14d478b4280b2e2c962b2",
            "f918aa9100d146a389126e3603e7563b"
          ]
        },
        "id": "prwkWOQvg6c5",
        "outputId": "c4424d6c-3f00-4363-eb09-3a7aebe296b6",
        "scrolled": false
      },
      "outputs": [
        {
          "data": {
            "application/vnd.jupyter.widget-view+json": {
              "model_id": "7ee15bda46094f7b913fcd228b8981b3",
              "version_major": 2,
              "version_minor": 0
            },
            "text/plain": [
              "  0%|          | 0/100 [00:00<?, ?it/s]"
            ]
          },
          "metadata": {},
          "output_type": "display_data"
        },
        {
          "data": {
            "application/vnd.jupyter.widget-view+json": {
              "model_id": "064e4fdab0a54cd9a08fe0b2bfaf8789",
              "version_major": 2,
              "version_minor": 0
            },
            "text/plain": [
              "  0%|          | 0/259 [00:00<?, ?it/s]"
            ]
          },
          "metadata": {},
          "output_type": "display_data"
        },
        {
          "data": {
            "application/vnd.jupyter.widget-view+json": {
              "model_id": "c778c0b0a3b24fed8a8e370af87f7440",
              "version_major": 2,
              "version_minor": 0
            },
            "text/plain": [
              "  0%|          | 0/100 [00:00<?, ?it/s]"
            ]
          },
          "metadata": {},
          "output_type": "display_data"
        },
        {
          "data": {
            "application/vnd.jupyter.widget-view+json": {
              "model_id": "a68adfb7bb1049bda16920badf93af63",
              "version_major": 2,
              "version_minor": 0
            },
            "text/plain": [
              "  0%|          | 0/248 [00:00<?, ?it/s]"
            ]
          },
          "metadata": {},
          "output_type": "display_data"
        }
      ],
      "source": [
        "test_prediction_results = []\n",
        "\n",
        "\n",
        "for i, tmp_X_path in enumerate(all_test_files):\n",
        "    # Read in the features\n",
        "    tmp_df = data_util.load_data([tmp_X_path], cols, sort_cols)\n",
        "\n",
        "    # Read in the labels (RUL)\n",
        "    tmp_rul_df = data_util.load_rul_data([all_rul_files[i]], ['id', 'RUL_actual'])\n",
        "\n",
        "    # Calculate the RUL and merge back to the test dataframe\n",
        "    tmp_df = data_util.calc_test_rul(tmp_df, tmp_rul_df)\n",
        "\n",
        "    # Transform\n",
        "    tmp_df = data_util.transform(tmp_df, pipeline)\n",
        "    \n",
        "    results = []\n",
        "\n",
        "    for engine_id in tqdm(tmp_df['id'].unique()):\n",
        "        engine_df = tmp_df[ tmp_df['id'] == engine_id]\n",
        "        \n",
        "        # The last sequence_length entries are used for the batch.\n",
        "        # Skip the engines with less then sequence_length for now.\n",
        "        # TODO support padding\n",
        "        if engine_df.shape[0] >= sequence_length:\n",
        "            last_batch = engine_df[feature_cols].iloc[-sequence_length:].values.reshape(batch_size, sequence_length, num_features)\n",
        "\n",
        "        else:\n",
        "            gap = engine_df.shape[0] % sequence_length\n",
        "            num_pad_rows = sequence_length - gap\n",
        "            pad_df = pd.DataFrame(np.zeros((num_pad_rows, num_features)),\n",
        "                                  columns=feature_cols)\n",
        "            last_batch = pd.concat([pad_df, engine_df[feature_cols]]).values.reshape(batch_size, sequence_length, num_features)\n",
        "            padded_batch = last_batch\n",
        "            \n",
        "        rul = engine_df['RUL'].iloc[-1:].values[0]\n",
        "        prediction = inf_model.predict_on_batch(last_batch)[0,0]\n",
        "\n",
        "        results.append([engine_id, prediction, rul, prediction-rul])\n",
        "\n",
        "        assert (last_batch.shape[1] % sequence_length) == 0     \n",
        "        \n",
        "    test_prediction_results.append(np.array(results))\n",
        "\n"
      ]
    },
    {
      "cell_type": "code",
      "execution_count": 24,
      "metadata": {
        "colab": {
          "base_uri": "https://localhost:8080/"
        },
        "id": "miRPDXdmg6c5",
        "outputId": "abcd8be1-2e8f-406d-9846-d6a6314f8634"
      },
      "outputs": [
        {
          "data": {
            "text/plain": [
              "4"
            ]
          },
          "execution_count": 24,
          "metadata": {},
          "output_type": "execute_result"
        }
      ],
      "source": [
        "len(test_prediction_results)"
      ]
    },
    {
      "cell_type": "code",
      "execution_count": 25,
      "metadata": {
        "colab": {
          "base_uri": "https://localhost:8080/"
        },
        "id": "wH9X8A3cMZR-",
        "outputId": "c26ad647-8eb8-4a8f-847b-531e87215de2"
      },
      "outputs": [
        {
          "data": {
            "text/plain": [
              "100"
            ]
          },
          "execution_count": 25,
          "metadata": {},
          "output_type": "execute_result"
        }
      ],
      "source": [
        "len(test_prediction_results[0])"
      ]
    },
    {
      "cell_type": "code",
      "execution_count": 26,
      "metadata": {
        "colab": {
          "base_uri": "https://localhost:8080/"
        },
        "id": "TN8cpDy_fLty",
        "outputId": "078cad8f-41bf-4d87-c263-20eb8d42b205"
      },
      "outputs": [
        {
          "data": {
            "text/plain": [
              "array([5001.       ,  189.4342041,  112.       ,   77.4342041])"
            ]
          },
          "execution_count": 26,
          "metadata": {},
          "output_type": "execute_result"
        }
      ],
      "source": [
        "test_prediction_results[0][0]"
      ]
    },
    {
      "cell_type": "code",
      "execution_count": 27,
      "metadata": {
        "colab": {
          "base_uri": "https://localhost:8080/"
        },
        "id": "-s3GSZSKfVpG",
        "outputId": "f518ce15-0956-4af4-cd76-2597c7e91f1f"
      },
      "outputs": [
        {
          "data": {
            "text/plain": [
              "array([5002.       ,  177.6428833,   98.       ,   79.6428833])"
            ]
          },
          "execution_count": 27,
          "metadata": {},
          "output_type": "execute_result"
        }
      ],
      "source": [
        "test_prediction_results[0][1]"
      ]
    },
    {
      "cell_type": "code",
      "execution_count": null,
      "metadata": {
        "id": "rBkAtIzrfZQ8"
      },
      "outputs": [],
      "source": []
    },
    {
      "cell_type": "code",
      "execution_count": null,
      "metadata": {},
      "outputs": [],
      "source": []
    }
  ],
  "metadata": {
    "anaconda-cloud": {},
    "colab": {
      "collapsed_sections": [
        "mpwo-Nztg6co"
      ],
      "name": "CNNGRU_model_prediction.ipynb",
      "provenance": []
    },
    "kernelspec": {
      "display_name": "Python 3",
      "language": "python",
      "name": "python3"
    },
    "language_info": {
      "codemirror_mode": {
        "name": "ipython",
        "version": 3
      },
      "file_extension": ".py",
      "mimetype": "text/x-python",
      "name": "python",
      "nbconvert_exporter": "python",
      "pygments_lexer": "ipython3",
      "version": "3.9.6"
    },
    "widgets": {
      "application/vnd.jupyter.widget-state+json": {
        "00f15dd0eb424b8d8bb41d6e369024c4": {
          "model_module": "@jupyter-widgets/controls",
          "model_module_version": "1.5.0",
          "model_name": "DescriptionStyleModel",
          "state": {
            "_model_module": "@jupyter-widgets/controls",
            "_model_module_version": "1.5.0",
            "_model_name": "DescriptionStyleModel",
            "_view_count": null,
            "_view_module": "@jupyter-widgets/base",
            "_view_module_version": "1.2.0",
            "_view_name": "StyleView",
            "description_width": ""
          }
        },
        "05667e126aea491ea710e47b26f18ddc": {
          "model_module": "@jupyter-widgets/controls",
          "model_module_version": "1.5.0",
          "model_name": "DescriptionStyleModel",
          "state": {
            "_model_module": "@jupyter-widgets/controls",
            "_model_module_version": "1.5.0",
            "_model_name": "DescriptionStyleModel",
            "_view_count": null,
            "_view_module": "@jupyter-widgets/base",
            "_view_module_version": "1.2.0",
            "_view_name": "StyleView",
            "description_width": ""
          }
        },
        "0a5d13a253d649a8b8d3552c2ad40466": {
          "model_module": "@jupyter-widgets/base",
          "model_module_version": "1.2.0",
          "model_name": "LayoutModel",
          "state": {
            "_model_module": "@jupyter-widgets/base",
            "_model_module_version": "1.2.0",
            "_model_name": "LayoutModel",
            "_view_count": null,
            "_view_module": "@jupyter-widgets/base",
            "_view_module_version": "1.2.0",
            "_view_name": "LayoutView",
            "align_content": null,
            "align_items": null,
            "align_self": null,
            "border": null,
            "bottom": null,
            "display": null,
            "flex": null,
            "flex_flow": null,
            "grid_area": null,
            "grid_auto_columns": null,
            "grid_auto_flow": null,
            "grid_auto_rows": null,
            "grid_column": null,
            "grid_gap": null,
            "grid_row": null,
            "grid_template_areas": null,
            "grid_template_columns": null,
            "grid_template_rows": null,
            "height": null,
            "justify_content": null,
            "justify_items": null,
            "left": null,
            "margin": null,
            "max_height": null,
            "max_width": null,
            "min_height": null,
            "min_width": null,
            "object_fit": null,
            "object_position": null,
            "order": null,
            "overflow": null,
            "overflow_x": null,
            "overflow_y": null,
            "padding": null,
            "right": null,
            "top": null,
            "visibility": null,
            "width": null
          }
        },
        "0a9f0814b8ff4d99bc002a14110a5816": {
          "model_module": "@jupyter-widgets/controls",
          "model_module_version": "1.5.0",
          "model_name": "FloatProgressModel",
          "state": {
            "_dom_classes": [],
            "_model_module": "@jupyter-widgets/controls",
            "_model_module_version": "1.5.0",
            "_model_name": "FloatProgressModel",
            "_view_count": null,
            "_view_module": "@jupyter-widgets/controls",
            "_view_module_version": "1.5.0",
            "_view_name": "ProgressView",
            "bar_style": "success",
            "description": "",
            "description_tooltip": null,
            "layout": "IPY_MODEL_be81164bc26f46ad850d57d2b0755586",
            "max": 100,
            "min": 0,
            "orientation": "horizontal",
            "style": "IPY_MODEL_9b036d05130f461fbb30bc92c3261d01",
            "value": 100
          }
        },
        "0b6f5bca0cc64aa7b92107b0906d29ef": {
          "model_module": "@jupyter-widgets/controls",
          "model_module_version": "1.5.0",
          "model_name": "HTMLModel",
          "state": {
            "_dom_classes": [],
            "_model_module": "@jupyter-widgets/controls",
            "_model_module_version": "1.5.0",
            "_model_name": "HTMLModel",
            "_view_count": null,
            "_view_module": "@jupyter-widgets/controls",
            "_view_module_version": "1.5.0",
            "_view_name": "HTMLView",
            "description": "",
            "description_tooltip": null,
            "layout": "IPY_MODEL_cf3e8fdf34c64eb99d52ddd6bdf55500",
            "placeholder": "​",
            "style": "IPY_MODEL_686586734e3548fdb98fcc72e344e685",
            "value": "100%"
          }
        },
        "0f3c8c50c4a042a9b13e5172d0fac7be": {
          "model_module": "@jupyter-widgets/base",
          "model_module_version": "1.2.0",
          "model_name": "LayoutModel",
          "state": {
            "_model_module": "@jupyter-widgets/base",
            "_model_module_version": "1.2.0",
            "_model_name": "LayoutModel",
            "_view_count": null,
            "_view_module": "@jupyter-widgets/base",
            "_view_module_version": "1.2.0",
            "_view_name": "LayoutView",
            "align_content": null,
            "align_items": null,
            "align_self": null,
            "border": null,
            "bottom": null,
            "display": null,
            "flex": null,
            "flex_flow": null,
            "grid_area": null,
            "grid_auto_columns": null,
            "grid_auto_flow": null,
            "grid_auto_rows": null,
            "grid_column": null,
            "grid_gap": null,
            "grid_row": null,
            "grid_template_areas": null,
            "grid_template_columns": null,
            "grid_template_rows": null,
            "height": null,
            "justify_content": null,
            "justify_items": null,
            "left": null,
            "margin": null,
            "max_height": null,
            "max_width": null,
            "min_height": null,
            "min_width": null,
            "object_fit": null,
            "object_position": null,
            "order": null,
            "overflow": null,
            "overflow_x": null,
            "overflow_y": null,
            "padding": null,
            "right": null,
            "top": null,
            "visibility": null,
            "width": null
          }
        },
        "126889e507b44eca8474314202fd0442": {
          "model_module": "@jupyter-widgets/controls",
          "model_module_version": "1.5.0",
          "model_name": "DescriptionStyleModel",
          "state": {
            "_model_module": "@jupyter-widgets/controls",
            "_model_module_version": "1.5.0",
            "_model_name": "DescriptionStyleModel",
            "_view_count": null,
            "_view_module": "@jupyter-widgets/base",
            "_view_module_version": "1.2.0",
            "_view_name": "StyleView",
            "description_width": ""
          }
        },
        "1749d9938ead421cb992a1f5442f9dfc": {
          "model_module": "@jupyter-widgets/controls",
          "model_module_version": "1.5.0",
          "model_name": "HTMLModel",
          "state": {
            "_dom_classes": [],
            "_model_module": "@jupyter-widgets/controls",
            "_model_module_version": "1.5.0",
            "_model_name": "HTMLModel",
            "_view_count": null,
            "_view_module": "@jupyter-widgets/controls",
            "_view_module_version": "1.5.0",
            "_view_name": "HTMLView",
            "description": "",
            "description_tooltip": null,
            "layout": "IPY_MODEL_619bbaa983844f5fbd78198a867e7ead",
            "placeholder": "​",
            "style": "IPY_MODEL_afdec27efcc143188adaa81216738649",
            "value": "100%"
          }
        },
        "18d0e7156772424b9452b713177de488": {
          "model_module": "@jupyter-widgets/controls",
          "model_module_version": "1.5.0",
          "model_name": "HBoxModel",
          "state": {
            "_dom_classes": [],
            "_model_module": "@jupyter-widgets/controls",
            "_model_module_version": "1.5.0",
            "_model_name": "HBoxModel",
            "_view_count": null,
            "_view_module": "@jupyter-widgets/controls",
            "_view_module_version": "1.5.0",
            "_view_name": "HBoxView",
            "box_style": "",
            "children": [
              "IPY_MODEL_98bb67b924444a2a862a55c668fb4a35",
              "IPY_MODEL_1b272ad3564b45febdc71cb81f50ac02",
              "IPY_MODEL_1ea0fa8910654a46b05dc819d527cb6d"
            ],
            "layout": "IPY_MODEL_51e62c1c9ba54b89b661f64de974cb56"
          }
        },
        "1b272ad3564b45febdc71cb81f50ac02": {
          "model_module": "@jupyter-widgets/controls",
          "model_module_version": "1.5.0",
          "model_name": "FloatProgressModel",
          "state": {
            "_dom_classes": [],
            "_model_module": "@jupyter-widgets/controls",
            "_model_module_version": "1.5.0",
            "_model_name": "FloatProgressModel",
            "_view_count": null,
            "_view_module": "@jupyter-widgets/controls",
            "_view_module_version": "1.5.0",
            "_view_name": "ProgressView",
            "bar_style": "success",
            "description": "",
            "description_tooltip": null,
            "layout": "IPY_MODEL_252ef3c2472c42b2a88cf5e0558c0854",
            "max": 248,
            "min": 0,
            "orientation": "horizontal",
            "style": "IPY_MODEL_8cab7b0c640e44a08264b4fb35bf7b53",
            "value": 248
          }
        },
        "1cd1678b3b0a421eb52ab7f264af4580": {
          "model_module": "@jupyter-widgets/controls",
          "model_module_version": "1.5.0",
          "model_name": "DescriptionStyleModel",
          "state": {
            "_model_module": "@jupyter-widgets/controls",
            "_model_module_version": "1.5.0",
            "_model_name": "DescriptionStyleModel",
            "_view_count": null,
            "_view_module": "@jupyter-widgets/base",
            "_view_module_version": "1.2.0",
            "_view_name": "StyleView",
            "description_width": ""
          }
        },
        "1ea0fa8910654a46b05dc819d527cb6d": {
          "model_module": "@jupyter-widgets/controls",
          "model_module_version": "1.5.0",
          "model_name": "HTMLModel",
          "state": {
            "_dom_classes": [],
            "_model_module": "@jupyter-widgets/controls",
            "_model_module_version": "1.5.0",
            "_model_name": "HTMLModel",
            "_view_count": null,
            "_view_module": "@jupyter-widgets/controls",
            "_view_module_version": "1.5.0",
            "_view_name": "HTMLView",
            "description": "",
            "description_tooltip": null,
            "layout": "IPY_MODEL_e3b5a43aefc14d478b4280b2e2c962b2",
            "placeholder": "​",
            "style": "IPY_MODEL_f918aa9100d146a389126e3603e7563b",
            "value": " 248/248 [00:02&lt;00:00, 108.33it/s]"
          }
        },
        "1f5b0c10f2e44b80bd219b7a58c22196": {
          "model_module": "@jupyter-widgets/base",
          "model_module_version": "1.2.0",
          "model_name": "LayoutModel",
          "state": {
            "_model_module": "@jupyter-widgets/base",
            "_model_module_version": "1.2.0",
            "_model_name": "LayoutModel",
            "_view_count": null,
            "_view_module": "@jupyter-widgets/base",
            "_view_module_version": "1.2.0",
            "_view_name": "LayoutView",
            "align_content": null,
            "align_items": null,
            "align_self": null,
            "border": null,
            "bottom": null,
            "display": null,
            "flex": null,
            "flex_flow": null,
            "grid_area": null,
            "grid_auto_columns": null,
            "grid_auto_flow": null,
            "grid_auto_rows": null,
            "grid_column": null,
            "grid_gap": null,
            "grid_row": null,
            "grid_template_areas": null,
            "grid_template_columns": null,
            "grid_template_rows": null,
            "height": null,
            "justify_content": null,
            "justify_items": null,
            "left": null,
            "margin": null,
            "max_height": null,
            "max_width": null,
            "min_height": null,
            "min_width": null,
            "object_fit": null,
            "object_position": null,
            "order": null,
            "overflow": null,
            "overflow_x": null,
            "overflow_y": null,
            "padding": null,
            "right": null,
            "top": null,
            "visibility": null,
            "width": null
          }
        },
        "1fe863a29c7d41e29859dbfef700c0fe": {
          "model_module": "@jupyter-widgets/base",
          "model_module_version": "1.2.0",
          "model_name": "LayoutModel",
          "state": {
            "_model_module": "@jupyter-widgets/base",
            "_model_module_version": "1.2.0",
            "_model_name": "LayoutModel",
            "_view_count": null,
            "_view_module": "@jupyter-widgets/base",
            "_view_module_version": "1.2.0",
            "_view_name": "LayoutView",
            "align_content": null,
            "align_items": null,
            "align_self": null,
            "border": null,
            "bottom": null,
            "display": null,
            "flex": null,
            "flex_flow": null,
            "grid_area": null,
            "grid_auto_columns": null,
            "grid_auto_flow": null,
            "grid_auto_rows": null,
            "grid_column": null,
            "grid_gap": null,
            "grid_row": null,
            "grid_template_areas": null,
            "grid_template_columns": null,
            "grid_template_rows": null,
            "height": null,
            "justify_content": null,
            "justify_items": null,
            "left": null,
            "margin": null,
            "max_height": null,
            "max_width": null,
            "min_height": null,
            "min_width": null,
            "object_fit": null,
            "object_position": null,
            "order": null,
            "overflow": null,
            "overflow_x": null,
            "overflow_y": null,
            "padding": null,
            "right": null,
            "top": null,
            "visibility": null,
            "width": null
          }
        },
        "244e2c45d4b244668a9c3122eb63314d": {
          "model_module": "@jupyter-widgets/base",
          "model_module_version": "1.2.0",
          "model_name": "LayoutModel",
          "state": {
            "_model_module": "@jupyter-widgets/base",
            "_model_module_version": "1.2.0",
            "_model_name": "LayoutModel",
            "_view_count": null,
            "_view_module": "@jupyter-widgets/base",
            "_view_module_version": "1.2.0",
            "_view_name": "LayoutView",
            "align_content": null,
            "align_items": null,
            "align_self": null,
            "border": null,
            "bottom": null,
            "display": null,
            "flex": null,
            "flex_flow": null,
            "grid_area": null,
            "grid_auto_columns": null,
            "grid_auto_flow": null,
            "grid_auto_rows": null,
            "grid_column": null,
            "grid_gap": null,
            "grid_row": null,
            "grid_template_areas": null,
            "grid_template_columns": null,
            "grid_template_rows": null,
            "height": null,
            "justify_content": null,
            "justify_items": null,
            "left": null,
            "margin": null,
            "max_height": null,
            "max_width": null,
            "min_height": null,
            "min_width": null,
            "object_fit": null,
            "object_position": null,
            "order": null,
            "overflow": null,
            "overflow_x": null,
            "overflow_y": null,
            "padding": null,
            "right": null,
            "top": null,
            "visibility": null,
            "width": null
          }
        },
        "252ef3c2472c42b2a88cf5e0558c0854": {
          "model_module": "@jupyter-widgets/base",
          "model_module_version": "1.2.0",
          "model_name": "LayoutModel",
          "state": {
            "_model_module": "@jupyter-widgets/base",
            "_model_module_version": "1.2.0",
            "_model_name": "LayoutModel",
            "_view_count": null,
            "_view_module": "@jupyter-widgets/base",
            "_view_module_version": "1.2.0",
            "_view_name": "LayoutView",
            "align_content": null,
            "align_items": null,
            "align_self": null,
            "border": null,
            "bottom": null,
            "display": null,
            "flex": null,
            "flex_flow": null,
            "grid_area": null,
            "grid_auto_columns": null,
            "grid_auto_flow": null,
            "grid_auto_rows": null,
            "grid_column": null,
            "grid_gap": null,
            "grid_row": null,
            "grid_template_areas": null,
            "grid_template_columns": null,
            "grid_template_rows": null,
            "height": null,
            "justify_content": null,
            "justify_items": null,
            "left": null,
            "margin": null,
            "max_height": null,
            "max_width": null,
            "min_height": null,
            "min_width": null,
            "object_fit": null,
            "object_position": null,
            "order": null,
            "overflow": null,
            "overflow_x": null,
            "overflow_y": null,
            "padding": null,
            "right": null,
            "top": null,
            "visibility": null,
            "width": null
          }
        },
        "256dfb3cd25446499fe3b8f2db16f1db": {
          "model_module": "@jupyter-widgets/controls",
          "model_module_version": "1.5.0",
          "model_name": "HTMLModel",
          "state": {
            "_dom_classes": [],
            "_model_module": "@jupyter-widgets/controls",
            "_model_module_version": "1.5.0",
            "_model_name": "HTMLModel",
            "_view_count": null,
            "_view_module": "@jupyter-widgets/controls",
            "_view_module_version": "1.5.0",
            "_view_name": "HTMLView",
            "description": "",
            "description_tooltip": null,
            "layout": "IPY_MODEL_244e2c45d4b244668a9c3122eb63314d",
            "placeholder": "​",
            "style": "IPY_MODEL_efb5f65e71d840f9b41d31762414d9ea",
            "value": " 259/259 [00:05&lt;00:00, 48.03it/s]"
          }
        },
        "2f21ca72f62c44cd8b455fa3983727d1": {
          "model_module": "@jupyter-widgets/controls",
          "model_module_version": "1.5.0",
          "model_name": "HBoxModel",
          "state": {
            "_dom_classes": [],
            "_model_module": "@jupyter-widgets/controls",
            "_model_module_version": "1.5.0",
            "_model_name": "HBoxModel",
            "_view_count": null,
            "_view_module": "@jupyter-widgets/controls",
            "_view_module_version": "1.5.0",
            "_view_name": "HBoxView",
            "box_style": "",
            "children": [
              "IPY_MODEL_1749d9938ead421cb992a1f5442f9dfc",
              "IPY_MODEL_0a9f0814b8ff4d99bc002a14110a5816",
              "IPY_MODEL_a07b5dc68ed540bf8cac3a8b5dd9ee9f"
            ],
            "layout": "IPY_MODEL_58346042206c4c6fa57b1b7958ec8335"
          }
        },
        "31b90135fc5f4beaa93ba6c9f776baef": {
          "model_module": "@jupyter-widgets/controls",
          "model_module_version": "1.5.0",
          "model_name": "FloatProgressModel",
          "state": {
            "_dom_classes": [],
            "_model_module": "@jupyter-widgets/controls",
            "_model_module_version": "1.5.0",
            "_model_name": "FloatProgressModel",
            "_view_count": null,
            "_view_module": "@jupyter-widgets/controls",
            "_view_module_version": "1.5.0",
            "_view_name": "ProgressView",
            "bar_style": "success",
            "description": "",
            "description_tooltip": null,
            "layout": "IPY_MODEL_4f22bacb543042249cffa91e08d58cb2",
            "max": 248,
            "min": 0,
            "orientation": "horizontal",
            "style": "IPY_MODEL_8cf2e5db47da4fa78387e574c4a2a849",
            "value": 248
          }
        },
        "39e6521e40794ead8a234fb919b50e18": {
          "model_module": "@jupyter-widgets/base",
          "model_module_version": "1.2.0",
          "model_name": "LayoutModel",
          "state": {
            "_model_module": "@jupyter-widgets/base",
            "_model_module_version": "1.2.0",
            "_model_name": "LayoutModel",
            "_view_count": null,
            "_view_module": "@jupyter-widgets/base",
            "_view_module_version": "1.2.0",
            "_view_name": "LayoutView",
            "align_content": null,
            "align_items": null,
            "align_self": null,
            "border": null,
            "bottom": null,
            "display": null,
            "flex": null,
            "flex_flow": null,
            "grid_area": null,
            "grid_auto_columns": null,
            "grid_auto_flow": null,
            "grid_auto_rows": null,
            "grid_column": null,
            "grid_gap": null,
            "grid_row": null,
            "grid_template_areas": null,
            "grid_template_columns": null,
            "grid_template_rows": null,
            "height": null,
            "justify_content": null,
            "justify_items": null,
            "left": null,
            "margin": null,
            "max_height": null,
            "max_width": null,
            "min_height": null,
            "min_width": null,
            "object_fit": null,
            "object_position": null,
            "order": null,
            "overflow": null,
            "overflow_x": null,
            "overflow_y": null,
            "padding": null,
            "right": null,
            "top": null,
            "visibility": null,
            "width": null
          }
        },
        "42a4f3a4e5384f748cea8148aaf8ca8d": {
          "model_module": "@jupyter-widgets/controls",
          "model_module_version": "1.5.0",
          "model_name": "DescriptionStyleModel",
          "state": {
            "_model_module": "@jupyter-widgets/controls",
            "_model_module_version": "1.5.0",
            "_model_name": "DescriptionStyleModel",
            "_view_count": null,
            "_view_module": "@jupyter-widgets/base",
            "_view_module_version": "1.2.0",
            "_view_name": "StyleView",
            "description_width": ""
          }
        },
        "49a0c05f11c84e5ba5d866e143f00bcb": {
          "model_module": "@jupyter-widgets/controls",
          "model_module_version": "1.5.0",
          "model_name": "HTMLModel",
          "state": {
            "_dom_classes": [],
            "_model_module": "@jupyter-widgets/controls",
            "_model_module_version": "1.5.0",
            "_model_name": "HTMLModel",
            "_view_count": null,
            "_view_module": "@jupyter-widgets/controls",
            "_view_module_version": "1.5.0",
            "_view_name": "HTMLView",
            "description": "",
            "description_tooltip": null,
            "layout": "IPY_MODEL_63527bfc2731485e82e03841671444f0",
            "placeholder": "​",
            "style": "IPY_MODEL_7a5579ba8fd0488696ee7ff37b59e9e7",
            "value": "100%"
          }
        },
        "4bf44dc8784e4deab956573cdf889667": {
          "model_module": "@jupyter-widgets/controls",
          "model_module_version": "1.5.0",
          "model_name": "HBoxModel",
          "state": {
            "_dom_classes": [],
            "_model_module": "@jupyter-widgets/controls",
            "_model_module_version": "1.5.0",
            "_model_name": "HBoxModel",
            "_view_count": null,
            "_view_module": "@jupyter-widgets/controls",
            "_view_module_version": "1.5.0",
            "_view_name": "HBoxView",
            "box_style": "",
            "children": [
              "IPY_MODEL_49a0c05f11c84e5ba5d866e143f00bcb",
              "IPY_MODEL_9faa13bd47934358a0fd6cedce44ab96",
              "IPY_MODEL_d4ba4698ce4b4db3b8ee8da9cc38d5d3"
            ],
            "layout": "IPY_MODEL_fb393a0e34cc4393be9b255352fbc1eb"
          }
        },
        "4f22bacb543042249cffa91e08d58cb2": {
          "model_module": "@jupyter-widgets/base",
          "model_module_version": "1.2.0",
          "model_name": "LayoutModel",
          "state": {
            "_model_module": "@jupyter-widgets/base",
            "_model_module_version": "1.2.0",
            "_model_name": "LayoutModel",
            "_view_count": null,
            "_view_module": "@jupyter-widgets/base",
            "_view_module_version": "1.2.0",
            "_view_name": "LayoutView",
            "align_content": null,
            "align_items": null,
            "align_self": null,
            "border": null,
            "bottom": null,
            "display": null,
            "flex": null,
            "flex_flow": null,
            "grid_area": null,
            "grid_auto_columns": null,
            "grid_auto_flow": null,
            "grid_auto_rows": null,
            "grid_column": null,
            "grid_gap": null,
            "grid_row": null,
            "grid_template_areas": null,
            "grid_template_columns": null,
            "grid_template_rows": null,
            "height": null,
            "justify_content": null,
            "justify_items": null,
            "left": null,
            "margin": null,
            "max_height": null,
            "max_width": null,
            "min_height": null,
            "min_width": null,
            "object_fit": null,
            "object_position": null,
            "order": null,
            "overflow": null,
            "overflow_x": null,
            "overflow_y": null,
            "padding": null,
            "right": null,
            "top": null,
            "visibility": null,
            "width": null
          }
        },
        "51e62c1c9ba54b89b661f64de974cb56": {
          "model_module": "@jupyter-widgets/base",
          "model_module_version": "1.2.0",
          "model_name": "LayoutModel",
          "state": {
            "_model_module": "@jupyter-widgets/base",
            "_model_module_version": "1.2.0",
            "_model_name": "LayoutModel",
            "_view_count": null,
            "_view_module": "@jupyter-widgets/base",
            "_view_module_version": "1.2.0",
            "_view_name": "LayoutView",
            "align_content": null,
            "align_items": null,
            "align_self": null,
            "border": null,
            "bottom": null,
            "display": null,
            "flex": null,
            "flex_flow": null,
            "grid_area": null,
            "grid_auto_columns": null,
            "grid_auto_flow": null,
            "grid_auto_rows": null,
            "grid_column": null,
            "grid_gap": null,
            "grid_row": null,
            "grid_template_areas": null,
            "grid_template_columns": null,
            "grid_template_rows": null,
            "height": null,
            "justify_content": null,
            "justify_items": null,
            "left": null,
            "margin": null,
            "max_height": null,
            "max_width": null,
            "min_height": null,
            "min_width": null,
            "object_fit": null,
            "object_position": null,
            "order": null,
            "overflow": null,
            "overflow_x": null,
            "overflow_y": null,
            "padding": null,
            "right": null,
            "top": null,
            "visibility": null,
            "width": null
          }
        },
        "54b1dbea726c4d7a80d1a6e22153b0d1": {
          "model_module": "@jupyter-widgets/controls",
          "model_module_version": "1.5.0",
          "model_name": "FloatProgressModel",
          "state": {
            "_dom_classes": [],
            "_model_module": "@jupyter-widgets/controls",
            "_model_module_version": "1.5.0",
            "_model_name": "FloatProgressModel",
            "_view_count": null,
            "_view_module": "@jupyter-widgets/controls",
            "_view_module_version": "1.5.0",
            "_view_name": "ProgressView",
            "bar_style": "success",
            "description": "",
            "description_tooltip": null,
            "layout": "IPY_MODEL_fa917db5ec2a4edcac34ed59054e0189",
            "max": 259,
            "min": 0,
            "orientation": "horizontal",
            "style": "IPY_MODEL_658515acec5944de928cc164daabb861",
            "value": 259
          }
        },
        "58346042206c4c6fa57b1b7958ec8335": {
          "model_module": "@jupyter-widgets/base",
          "model_module_version": "1.2.0",
          "model_name": "LayoutModel",
          "state": {
            "_model_module": "@jupyter-widgets/base",
            "_model_module_version": "1.2.0",
            "_model_name": "LayoutModel",
            "_view_count": null,
            "_view_module": "@jupyter-widgets/base",
            "_view_module_version": "1.2.0",
            "_view_name": "LayoutView",
            "align_content": null,
            "align_items": null,
            "align_self": null,
            "border": null,
            "bottom": null,
            "display": null,
            "flex": null,
            "flex_flow": null,
            "grid_area": null,
            "grid_auto_columns": null,
            "grid_auto_flow": null,
            "grid_auto_rows": null,
            "grid_column": null,
            "grid_gap": null,
            "grid_row": null,
            "grid_template_areas": null,
            "grid_template_columns": null,
            "grid_template_rows": null,
            "height": null,
            "justify_content": null,
            "justify_items": null,
            "left": null,
            "margin": null,
            "max_height": null,
            "max_width": null,
            "min_height": null,
            "min_width": null,
            "object_fit": null,
            "object_position": null,
            "order": null,
            "overflow": null,
            "overflow_x": null,
            "overflow_y": null,
            "padding": null,
            "right": null,
            "top": null,
            "visibility": null,
            "width": null
          }
        },
        "5b2f53d816c24b71825bae8e5690da0f": {
          "model_module": "@jupyter-widgets/base",
          "model_module_version": "1.2.0",
          "model_name": "LayoutModel",
          "state": {
            "_model_module": "@jupyter-widgets/base",
            "_model_module_version": "1.2.0",
            "_model_name": "LayoutModel",
            "_view_count": null,
            "_view_module": "@jupyter-widgets/base",
            "_view_module_version": "1.2.0",
            "_view_name": "LayoutView",
            "align_content": null,
            "align_items": null,
            "align_self": null,
            "border": null,
            "bottom": null,
            "display": null,
            "flex": null,
            "flex_flow": null,
            "grid_area": null,
            "grid_auto_columns": null,
            "grid_auto_flow": null,
            "grid_auto_rows": null,
            "grid_column": null,
            "grid_gap": null,
            "grid_row": null,
            "grid_template_areas": null,
            "grid_template_columns": null,
            "grid_template_rows": null,
            "height": null,
            "justify_content": null,
            "justify_items": null,
            "left": null,
            "margin": null,
            "max_height": null,
            "max_width": null,
            "min_height": null,
            "min_width": null,
            "object_fit": null,
            "object_position": null,
            "order": null,
            "overflow": null,
            "overflow_x": null,
            "overflow_y": null,
            "padding": null,
            "right": null,
            "top": null,
            "visibility": null,
            "width": null
          }
        },
        "5db42a132e12422e9cd017ebdf5d84ba": {
          "model_module": "@jupyter-widgets/base",
          "model_module_version": "1.2.0",
          "model_name": "LayoutModel",
          "state": {
            "_model_module": "@jupyter-widgets/base",
            "_model_module_version": "1.2.0",
            "_model_name": "LayoutModel",
            "_view_count": null,
            "_view_module": "@jupyter-widgets/base",
            "_view_module_version": "1.2.0",
            "_view_name": "LayoutView",
            "align_content": null,
            "align_items": null,
            "align_self": null,
            "border": null,
            "bottom": null,
            "display": null,
            "flex": null,
            "flex_flow": null,
            "grid_area": null,
            "grid_auto_columns": null,
            "grid_auto_flow": null,
            "grid_auto_rows": null,
            "grid_column": null,
            "grid_gap": null,
            "grid_row": null,
            "grid_template_areas": null,
            "grid_template_columns": null,
            "grid_template_rows": null,
            "height": null,
            "justify_content": null,
            "justify_items": null,
            "left": null,
            "margin": null,
            "max_height": null,
            "max_width": null,
            "min_height": null,
            "min_width": null,
            "object_fit": null,
            "object_position": null,
            "order": null,
            "overflow": null,
            "overflow_x": null,
            "overflow_y": null,
            "padding": null,
            "right": null,
            "top": null,
            "visibility": null,
            "width": null
          }
        },
        "5e13fe2dff02414b8111bf8d5c99da90": {
          "model_module": "@jupyter-widgets/controls",
          "model_module_version": "1.5.0",
          "model_name": "DescriptionStyleModel",
          "state": {
            "_model_module": "@jupyter-widgets/controls",
            "_model_module_version": "1.5.0",
            "_model_name": "DescriptionStyleModel",
            "_view_count": null,
            "_view_module": "@jupyter-widgets/base",
            "_view_module_version": "1.2.0",
            "_view_name": "StyleView",
            "description_width": ""
          }
        },
        "605c935b7a314e12afba16888e57c58e": {
          "model_module": "@jupyter-widgets/base",
          "model_module_version": "1.2.0",
          "model_name": "LayoutModel",
          "state": {
            "_model_module": "@jupyter-widgets/base",
            "_model_module_version": "1.2.0",
            "_model_name": "LayoutModel",
            "_view_count": null,
            "_view_module": "@jupyter-widgets/base",
            "_view_module_version": "1.2.0",
            "_view_name": "LayoutView",
            "align_content": null,
            "align_items": null,
            "align_self": null,
            "border": null,
            "bottom": null,
            "display": null,
            "flex": null,
            "flex_flow": null,
            "grid_area": null,
            "grid_auto_columns": null,
            "grid_auto_flow": null,
            "grid_auto_rows": null,
            "grid_column": null,
            "grid_gap": null,
            "grid_row": null,
            "grid_template_areas": null,
            "grid_template_columns": null,
            "grid_template_rows": null,
            "height": null,
            "justify_content": null,
            "justify_items": null,
            "left": null,
            "margin": null,
            "max_height": null,
            "max_width": null,
            "min_height": null,
            "min_width": null,
            "object_fit": null,
            "object_position": null,
            "order": null,
            "overflow": null,
            "overflow_x": null,
            "overflow_y": null,
            "padding": null,
            "right": null,
            "top": null,
            "visibility": null,
            "width": null
          }
        },
        "619bbaa983844f5fbd78198a867e7ead": {
          "model_module": "@jupyter-widgets/base",
          "model_module_version": "1.2.0",
          "model_name": "LayoutModel",
          "state": {
            "_model_module": "@jupyter-widgets/base",
            "_model_module_version": "1.2.0",
            "_model_name": "LayoutModel",
            "_view_count": null,
            "_view_module": "@jupyter-widgets/base",
            "_view_module_version": "1.2.0",
            "_view_name": "LayoutView",
            "align_content": null,
            "align_items": null,
            "align_self": null,
            "border": null,
            "bottom": null,
            "display": null,
            "flex": null,
            "flex_flow": null,
            "grid_area": null,
            "grid_auto_columns": null,
            "grid_auto_flow": null,
            "grid_auto_rows": null,
            "grid_column": null,
            "grid_gap": null,
            "grid_row": null,
            "grid_template_areas": null,
            "grid_template_columns": null,
            "grid_template_rows": null,
            "height": null,
            "justify_content": null,
            "justify_items": null,
            "left": null,
            "margin": null,
            "max_height": null,
            "max_width": null,
            "min_height": null,
            "min_width": null,
            "object_fit": null,
            "object_position": null,
            "order": null,
            "overflow": null,
            "overflow_x": null,
            "overflow_y": null,
            "padding": null,
            "right": null,
            "top": null,
            "visibility": null,
            "width": null
          }
        },
        "63527bfc2731485e82e03841671444f0": {
          "model_module": "@jupyter-widgets/base",
          "model_module_version": "1.2.0",
          "model_name": "LayoutModel",
          "state": {
            "_model_module": "@jupyter-widgets/base",
            "_model_module_version": "1.2.0",
            "_model_name": "LayoutModel",
            "_view_count": null,
            "_view_module": "@jupyter-widgets/base",
            "_view_module_version": "1.2.0",
            "_view_name": "LayoutView",
            "align_content": null,
            "align_items": null,
            "align_self": null,
            "border": null,
            "bottom": null,
            "display": null,
            "flex": null,
            "flex_flow": null,
            "grid_area": null,
            "grid_auto_columns": null,
            "grid_auto_flow": null,
            "grid_auto_rows": null,
            "grid_column": null,
            "grid_gap": null,
            "grid_row": null,
            "grid_template_areas": null,
            "grid_template_columns": null,
            "grid_template_rows": null,
            "height": null,
            "justify_content": null,
            "justify_items": null,
            "left": null,
            "margin": null,
            "max_height": null,
            "max_width": null,
            "min_height": null,
            "min_width": null,
            "object_fit": null,
            "object_position": null,
            "order": null,
            "overflow": null,
            "overflow_x": null,
            "overflow_y": null,
            "padding": null,
            "right": null,
            "top": null,
            "visibility": null,
            "width": null
          }
        },
        "64cdfab4c3db4315ad17124203d7da8a": {
          "model_module": "@jupyter-widgets/base",
          "model_module_version": "1.2.0",
          "model_name": "LayoutModel",
          "state": {
            "_model_module": "@jupyter-widgets/base",
            "_model_module_version": "1.2.0",
            "_model_name": "LayoutModel",
            "_view_count": null,
            "_view_module": "@jupyter-widgets/base",
            "_view_module_version": "1.2.0",
            "_view_name": "LayoutView",
            "align_content": null,
            "align_items": null,
            "align_self": null,
            "border": null,
            "bottom": null,
            "display": null,
            "flex": null,
            "flex_flow": null,
            "grid_area": null,
            "grid_auto_columns": null,
            "grid_auto_flow": null,
            "grid_auto_rows": null,
            "grid_column": null,
            "grid_gap": null,
            "grid_row": null,
            "grid_template_areas": null,
            "grid_template_columns": null,
            "grid_template_rows": null,
            "height": null,
            "justify_content": null,
            "justify_items": null,
            "left": null,
            "margin": null,
            "max_height": null,
            "max_width": null,
            "min_height": null,
            "min_width": null,
            "object_fit": null,
            "object_position": null,
            "order": null,
            "overflow": null,
            "overflow_x": null,
            "overflow_y": null,
            "padding": null,
            "right": null,
            "top": null,
            "visibility": null,
            "width": null
          }
        },
        "658515acec5944de928cc164daabb861": {
          "model_module": "@jupyter-widgets/controls",
          "model_module_version": "1.5.0",
          "model_name": "ProgressStyleModel",
          "state": {
            "_model_module": "@jupyter-widgets/controls",
            "_model_module_version": "1.5.0",
            "_model_name": "ProgressStyleModel",
            "_view_count": null,
            "_view_module": "@jupyter-widgets/base",
            "_view_module_version": "1.2.0",
            "_view_name": "StyleView",
            "bar_color": null,
            "description_width": ""
          }
        },
        "686586734e3548fdb98fcc72e344e685": {
          "model_module": "@jupyter-widgets/controls",
          "model_module_version": "1.5.0",
          "model_name": "DescriptionStyleModel",
          "state": {
            "_model_module": "@jupyter-widgets/controls",
            "_model_module_version": "1.5.0",
            "_model_name": "DescriptionStyleModel",
            "_view_count": null,
            "_view_module": "@jupyter-widgets/base",
            "_view_module_version": "1.2.0",
            "_view_name": "StyleView",
            "description_width": ""
          }
        },
        "6f529fd2e2a54d1e898456880d6f83b3": {
          "model_module": "@jupyter-widgets/base",
          "model_module_version": "1.2.0",
          "model_name": "LayoutModel",
          "state": {
            "_model_module": "@jupyter-widgets/base",
            "_model_module_version": "1.2.0",
            "_model_name": "LayoutModel",
            "_view_count": null,
            "_view_module": "@jupyter-widgets/base",
            "_view_module_version": "1.2.0",
            "_view_name": "LayoutView",
            "align_content": null,
            "align_items": null,
            "align_self": null,
            "border": null,
            "bottom": null,
            "display": null,
            "flex": null,
            "flex_flow": null,
            "grid_area": null,
            "grid_auto_columns": null,
            "grid_auto_flow": null,
            "grid_auto_rows": null,
            "grid_column": null,
            "grid_gap": null,
            "grid_row": null,
            "grid_template_areas": null,
            "grid_template_columns": null,
            "grid_template_rows": null,
            "height": null,
            "justify_content": null,
            "justify_items": null,
            "left": null,
            "margin": null,
            "max_height": null,
            "max_width": null,
            "min_height": null,
            "min_width": null,
            "object_fit": null,
            "object_position": null,
            "order": null,
            "overflow": null,
            "overflow_x": null,
            "overflow_y": null,
            "padding": null,
            "right": null,
            "top": null,
            "visibility": null,
            "width": null
          }
        },
        "710f48d47d2e4a37870a7c27707c87d5": {
          "model_module": "@jupyter-widgets/controls",
          "model_module_version": "1.5.0",
          "model_name": "HTMLModel",
          "state": {
            "_dom_classes": [],
            "_model_module": "@jupyter-widgets/controls",
            "_model_module_version": "1.5.0",
            "_model_name": "HTMLModel",
            "_view_count": null,
            "_view_module": "@jupyter-widgets/controls",
            "_view_module_version": "1.5.0",
            "_view_name": "HTMLView",
            "description": "",
            "description_tooltip": null,
            "layout": "IPY_MODEL_f1ae5ac6a28b4c86b49419329f730783",
            "placeholder": "​",
            "style": "IPY_MODEL_c082e8e1f45b4539bcd05e97c066d8c3",
            "value": " 100/100 [00:01&lt;00:00, 108.14it/s]"
          }
        },
        "7a5579ba8fd0488696ee7ff37b59e9e7": {
          "model_module": "@jupyter-widgets/controls",
          "model_module_version": "1.5.0",
          "model_name": "DescriptionStyleModel",
          "state": {
            "_model_module": "@jupyter-widgets/controls",
            "_model_module_version": "1.5.0",
            "_model_name": "DescriptionStyleModel",
            "_view_count": null,
            "_view_module": "@jupyter-widgets/base",
            "_view_module_version": "1.2.0",
            "_view_name": "StyleView",
            "description_width": ""
          }
        },
        "7bf8676ed1f041f8bd2d438acde920ba": {
          "model_module": "@jupyter-widgets/base",
          "model_module_version": "1.2.0",
          "model_name": "LayoutModel",
          "state": {
            "_model_module": "@jupyter-widgets/base",
            "_model_module_version": "1.2.0",
            "_model_name": "LayoutModel",
            "_view_count": null,
            "_view_module": "@jupyter-widgets/base",
            "_view_module_version": "1.2.0",
            "_view_name": "LayoutView",
            "align_content": null,
            "align_items": null,
            "align_self": null,
            "border": null,
            "bottom": null,
            "display": null,
            "flex": null,
            "flex_flow": null,
            "grid_area": null,
            "grid_auto_columns": null,
            "grid_auto_flow": null,
            "grid_auto_rows": null,
            "grid_column": null,
            "grid_gap": null,
            "grid_row": null,
            "grid_template_areas": null,
            "grid_template_columns": null,
            "grid_template_rows": null,
            "height": null,
            "justify_content": null,
            "justify_items": null,
            "left": null,
            "margin": null,
            "max_height": null,
            "max_width": null,
            "min_height": null,
            "min_width": null,
            "object_fit": null,
            "object_position": null,
            "order": null,
            "overflow": null,
            "overflow_x": null,
            "overflow_y": null,
            "padding": null,
            "right": null,
            "top": null,
            "visibility": null,
            "width": null
          }
        },
        "89bb4827b0ef463caec7adaff95af901": {
          "model_module": "@jupyter-widgets/controls",
          "model_module_version": "1.5.0",
          "model_name": "DescriptionStyleModel",
          "state": {
            "_model_module": "@jupyter-widgets/controls",
            "_model_module_version": "1.5.0",
            "_model_name": "DescriptionStyleModel",
            "_view_count": null,
            "_view_module": "@jupyter-widgets/base",
            "_view_module_version": "1.2.0",
            "_view_name": "StyleView",
            "description_width": ""
          }
        },
        "8cab7b0c640e44a08264b4fb35bf7b53": {
          "model_module": "@jupyter-widgets/controls",
          "model_module_version": "1.5.0",
          "model_name": "ProgressStyleModel",
          "state": {
            "_model_module": "@jupyter-widgets/controls",
            "_model_module_version": "1.5.0",
            "_model_name": "ProgressStyleModel",
            "_view_count": null,
            "_view_module": "@jupyter-widgets/base",
            "_view_module_version": "1.2.0",
            "_view_name": "StyleView",
            "bar_color": null,
            "description_width": ""
          }
        },
        "8cf2e5db47da4fa78387e574c4a2a849": {
          "model_module": "@jupyter-widgets/controls",
          "model_module_version": "1.5.0",
          "model_name": "ProgressStyleModel",
          "state": {
            "_model_module": "@jupyter-widgets/controls",
            "_model_module_version": "1.5.0",
            "_model_name": "ProgressStyleModel",
            "_view_count": null,
            "_view_module": "@jupyter-widgets/base",
            "_view_module_version": "1.2.0",
            "_view_name": "StyleView",
            "bar_color": null,
            "description_width": ""
          }
        },
        "8d3613a33a5b43619def24fe8c108e65": {
          "model_module": "@jupyter-widgets/controls",
          "model_module_version": "1.5.0",
          "model_name": "FloatProgressModel",
          "state": {
            "_dom_classes": [],
            "_model_module": "@jupyter-widgets/controls",
            "_model_module_version": "1.5.0",
            "_model_name": "FloatProgressModel",
            "_view_count": null,
            "_view_module": "@jupyter-widgets/controls",
            "_view_module_version": "1.5.0",
            "_view_name": "ProgressView",
            "bar_style": "success",
            "description": "",
            "description_tooltip": null,
            "layout": "IPY_MODEL_0f3c8c50c4a042a9b13e5172d0fac7be",
            "max": 100,
            "min": 0,
            "orientation": "horizontal",
            "style": "IPY_MODEL_e5cba61d864e416d986d0e33a9164560",
            "value": 100
          }
        },
        "8e386b6d080c4e9d887a15abd1040fc3": {
          "model_module": "@jupyter-widgets/controls",
          "model_module_version": "1.5.0",
          "model_name": "HBoxModel",
          "state": {
            "_dom_classes": [],
            "_model_module": "@jupyter-widgets/controls",
            "_model_module_version": "1.5.0",
            "_model_name": "HBoxModel",
            "_view_count": null,
            "_view_module": "@jupyter-widgets/controls",
            "_view_module_version": "1.5.0",
            "_view_name": "HBoxView",
            "box_style": "",
            "children": [
              "IPY_MODEL_0b6f5bca0cc64aa7b92107b0906d29ef",
              "IPY_MODEL_54b1dbea726c4d7a80d1a6e22153b0d1",
              "IPY_MODEL_9fd4828cc89d4841ab6f3a3e6c538da9"
            ],
            "layout": "IPY_MODEL_ab6839061aea4a1db082d14bb93d2490"
          }
        },
        "8e4f65ed8af14c56a7b632e69eaf8b15": {
          "model_module": "@jupyter-widgets/controls",
          "model_module_version": "1.5.0",
          "model_name": "HBoxModel",
          "state": {
            "_dom_classes": [],
            "_model_module": "@jupyter-widgets/controls",
            "_model_module_version": "1.5.0",
            "_model_name": "HBoxModel",
            "_view_count": null,
            "_view_module": "@jupyter-widgets/controls",
            "_view_module_version": "1.5.0",
            "_view_name": "HBoxView",
            "box_style": "",
            "children": [
              "IPY_MODEL_c94262041d4643b3b3ba4dd21898bf09",
              "IPY_MODEL_e62dd16117264c5995ac6cc64f1e3442",
              "IPY_MODEL_710f48d47d2e4a37870a7c27707c87d5"
            ],
            "layout": "IPY_MODEL_0a5d13a253d649a8b8d3552c2ad40466"
          }
        },
        "8eaca10c8f024fab8952e1d96d85e4c7": {
          "model_module": "@jupyter-widgets/base",
          "model_module_version": "1.2.0",
          "model_name": "LayoutModel",
          "state": {
            "_model_module": "@jupyter-widgets/base",
            "_model_module_version": "1.2.0",
            "_model_name": "LayoutModel",
            "_view_count": null,
            "_view_module": "@jupyter-widgets/base",
            "_view_module_version": "1.2.0",
            "_view_name": "LayoutView",
            "align_content": null,
            "align_items": null,
            "align_self": null,
            "border": null,
            "bottom": null,
            "display": null,
            "flex": null,
            "flex_flow": null,
            "grid_area": null,
            "grid_auto_columns": null,
            "grid_auto_flow": null,
            "grid_auto_rows": null,
            "grid_column": null,
            "grid_gap": null,
            "grid_row": null,
            "grid_template_areas": null,
            "grid_template_columns": null,
            "grid_template_rows": null,
            "height": null,
            "justify_content": null,
            "justify_items": null,
            "left": null,
            "margin": null,
            "max_height": null,
            "max_width": null,
            "min_height": null,
            "min_width": null,
            "object_fit": null,
            "object_position": null,
            "order": null,
            "overflow": null,
            "overflow_x": null,
            "overflow_y": null,
            "padding": null,
            "right": null,
            "top": null,
            "visibility": null,
            "width": null
          }
        },
        "91d7628b68fc45a8870116bec5d8a426": {
          "model_module": "@jupyter-widgets/controls",
          "model_module_version": "1.5.0",
          "model_name": "HTMLModel",
          "state": {
            "_dom_classes": [],
            "_model_module": "@jupyter-widgets/controls",
            "_model_module_version": "1.5.0",
            "_model_name": "HTMLModel",
            "_view_count": null,
            "_view_module": "@jupyter-widgets/controls",
            "_view_module_version": "1.5.0",
            "_view_name": "HTMLView",
            "description": "",
            "description_tooltip": null,
            "layout": "IPY_MODEL_64cdfab4c3db4315ad17124203d7da8a",
            "placeholder": "​",
            "style": "IPY_MODEL_00f15dd0eb424b8d8bb41d6e369024c4",
            "value": " 248/248 [00:06&lt;00:00, 46.27it/s]"
          }
        },
        "9671e2c2647843cdbc9cc71843991788": {
          "model_module": "@jupyter-widgets/controls",
          "model_module_version": "1.5.0",
          "model_name": "HTMLModel",
          "state": {
            "_dom_classes": [],
            "_model_module": "@jupyter-widgets/controls",
            "_model_module_version": "1.5.0",
            "_model_name": "HTMLModel",
            "_view_count": null,
            "_view_module": "@jupyter-widgets/controls",
            "_view_module_version": "1.5.0",
            "_view_name": "HTMLView",
            "description": "",
            "description_tooltip": null,
            "layout": "IPY_MODEL_d369f8b9a2f14bdeb5d3f28617d24639",
            "placeholder": "​",
            "style": "IPY_MODEL_1cd1678b3b0a421eb52ab7f264af4580",
            "value": "100%"
          }
        },
        "98bb67b924444a2a862a55c668fb4a35": {
          "model_module": "@jupyter-widgets/controls",
          "model_module_version": "1.5.0",
          "model_name": "HTMLModel",
          "state": {
            "_dom_classes": [],
            "_model_module": "@jupyter-widgets/controls",
            "_model_module_version": "1.5.0",
            "_model_name": "HTMLModel",
            "_view_count": null,
            "_view_module": "@jupyter-widgets/controls",
            "_view_module_version": "1.5.0",
            "_view_name": "HTMLView",
            "description": "",
            "description_tooltip": null,
            "layout": "IPY_MODEL_f262affb5f244f04aef08fbf08751d38",
            "placeholder": "​",
            "style": "IPY_MODEL_126889e507b44eca8474314202fd0442",
            "value": "100%"
          }
        },
        "9957f5f56add4e5a8cb074cddc52b13e": {
          "model_module": "@jupyter-widgets/base",
          "model_module_version": "1.2.0",
          "model_name": "LayoutModel",
          "state": {
            "_model_module": "@jupyter-widgets/base",
            "_model_module_version": "1.2.0",
            "_model_name": "LayoutModel",
            "_view_count": null,
            "_view_module": "@jupyter-widgets/base",
            "_view_module_version": "1.2.0",
            "_view_name": "LayoutView",
            "align_content": null,
            "align_items": null,
            "align_self": null,
            "border": null,
            "bottom": null,
            "display": null,
            "flex": null,
            "flex_flow": null,
            "grid_area": null,
            "grid_auto_columns": null,
            "grid_auto_flow": null,
            "grid_auto_rows": null,
            "grid_column": null,
            "grid_gap": null,
            "grid_row": null,
            "grid_template_areas": null,
            "grid_template_columns": null,
            "grid_template_rows": null,
            "height": null,
            "justify_content": null,
            "justify_items": null,
            "left": null,
            "margin": null,
            "max_height": null,
            "max_width": null,
            "min_height": null,
            "min_width": null,
            "object_fit": null,
            "object_position": null,
            "order": null,
            "overflow": null,
            "overflow_x": null,
            "overflow_y": null,
            "padding": null,
            "right": null,
            "top": null,
            "visibility": null,
            "width": null
          }
        },
        "9b036d05130f461fbb30bc92c3261d01": {
          "model_module": "@jupyter-widgets/controls",
          "model_module_version": "1.5.0",
          "model_name": "ProgressStyleModel",
          "state": {
            "_model_module": "@jupyter-widgets/controls",
            "_model_module_version": "1.5.0",
            "_model_name": "ProgressStyleModel",
            "_view_count": null,
            "_view_module": "@jupyter-widgets/base",
            "_view_module_version": "1.2.0",
            "_view_name": "StyleView",
            "bar_color": null,
            "description_width": ""
          }
        },
        "9f5967232fc348f9b1d63611b51e4ad5": {
          "model_module": "@jupyter-widgets/controls",
          "model_module_version": "1.5.0",
          "model_name": "ProgressStyleModel",
          "state": {
            "_model_module": "@jupyter-widgets/controls",
            "_model_module_version": "1.5.0",
            "_model_name": "ProgressStyleModel",
            "_view_count": null,
            "_view_module": "@jupyter-widgets/base",
            "_view_module_version": "1.2.0",
            "_view_name": "StyleView",
            "bar_color": null,
            "description_width": ""
          }
        },
        "9faa13bd47934358a0fd6cedce44ab96": {
          "model_module": "@jupyter-widgets/controls",
          "model_module_version": "1.5.0",
          "model_name": "FloatProgressModel",
          "state": {
            "_dom_classes": [],
            "_model_module": "@jupyter-widgets/controls",
            "_model_module_version": "1.5.0",
            "_model_name": "FloatProgressModel",
            "_view_count": null,
            "_view_module": "@jupyter-widgets/controls",
            "_view_module_version": "1.5.0",
            "_view_name": "ProgressView",
            "bar_style": "success",
            "description": "",
            "description_tooltip": null,
            "layout": "IPY_MODEL_6f529fd2e2a54d1e898456880d6f83b3",
            "max": 100,
            "min": 0,
            "orientation": "horizontal",
            "style": "IPY_MODEL_f2bed39e73ab4e749843410ffc21e71d",
            "value": 100
          }
        },
        "9fd4828cc89d4841ab6f3a3e6c538da9": {
          "model_module": "@jupyter-widgets/controls",
          "model_module_version": "1.5.0",
          "model_name": "HTMLModel",
          "state": {
            "_dom_classes": [],
            "_model_module": "@jupyter-widgets/controls",
            "_model_module_version": "1.5.0",
            "_model_name": "HTMLModel",
            "_view_count": null,
            "_view_module": "@jupyter-widgets/controls",
            "_view_module_version": "1.5.0",
            "_view_name": "HTMLView",
            "description": "",
            "description_tooltip": null,
            "layout": "IPY_MODEL_9957f5f56add4e5a8cb074cddc52b13e",
            "placeholder": "​",
            "style": "IPY_MODEL_89bb4827b0ef463caec7adaff95af901",
            "value": " 259/259 [00:02&lt;00:00, 112.07it/s]"
          }
        },
        "9fe6ca403ce34a69959d7781a68b5737": {
          "model_module": "@jupyter-widgets/controls",
          "model_module_version": "1.5.0",
          "model_name": "HTMLModel",
          "state": {
            "_dom_classes": [],
            "_model_module": "@jupyter-widgets/controls",
            "_model_module_version": "1.5.0",
            "_model_name": "HTMLModel",
            "_view_count": null,
            "_view_module": "@jupyter-widgets/controls",
            "_view_module_version": "1.5.0",
            "_view_name": "HTMLView",
            "description": "",
            "description_tooltip": null,
            "layout": "IPY_MODEL_1f5b0c10f2e44b80bd219b7a58c22196",
            "placeholder": "​",
            "style": "IPY_MODEL_f7bee36f9ab541dbab6c00c1ce130262",
            "value": "100%"
          }
        },
        "a07b5dc68ed540bf8cac3a8b5dd9ee9f": {
          "model_module": "@jupyter-widgets/controls",
          "model_module_version": "1.5.0",
          "model_name": "HTMLModel",
          "state": {
            "_dom_classes": [],
            "_model_module": "@jupyter-widgets/controls",
            "_model_module_version": "1.5.0",
            "_model_name": "HTMLModel",
            "_view_count": null,
            "_view_module": "@jupyter-widgets/controls",
            "_view_module_version": "1.5.0",
            "_view_name": "HTMLView",
            "description": "",
            "description_tooltip": null,
            "layout": "IPY_MODEL_5b2f53d816c24b71825bae8e5690da0f",
            "placeholder": "​",
            "style": "IPY_MODEL_42a4f3a4e5384f748cea8148aaf8ca8d",
            "value": " 100/100 [00:02&lt;00:00, 56.34it/s]"
          }
        },
        "a4475925392e45bbb67d168819f149dc": {
          "model_module": "@jupyter-widgets/base",
          "model_module_version": "1.2.0",
          "model_name": "LayoutModel",
          "state": {
            "_model_module": "@jupyter-widgets/base",
            "_model_module_version": "1.2.0",
            "_model_name": "LayoutModel",
            "_view_count": null,
            "_view_module": "@jupyter-widgets/base",
            "_view_module_version": "1.2.0",
            "_view_name": "LayoutView",
            "align_content": null,
            "align_items": null,
            "align_self": null,
            "border": null,
            "bottom": null,
            "display": null,
            "flex": null,
            "flex_flow": null,
            "grid_area": null,
            "grid_auto_columns": null,
            "grid_auto_flow": null,
            "grid_auto_rows": null,
            "grid_column": null,
            "grid_gap": null,
            "grid_row": null,
            "grid_template_areas": null,
            "grid_template_columns": null,
            "grid_template_rows": null,
            "height": null,
            "justify_content": null,
            "justify_items": null,
            "left": null,
            "margin": null,
            "max_height": null,
            "max_width": null,
            "min_height": null,
            "min_width": null,
            "object_fit": null,
            "object_position": null,
            "order": null,
            "overflow": null,
            "overflow_x": null,
            "overflow_y": null,
            "padding": null,
            "right": null,
            "top": null,
            "visibility": null,
            "width": null
          }
        },
        "a45d2f0e12a34fcdb312d31c0e5f1db2": {
          "model_module": "@jupyter-widgets/controls",
          "model_module_version": "1.5.0",
          "model_name": "DescriptionStyleModel",
          "state": {
            "_model_module": "@jupyter-widgets/controls",
            "_model_module_version": "1.5.0",
            "_model_name": "DescriptionStyleModel",
            "_view_count": null,
            "_view_module": "@jupyter-widgets/base",
            "_view_module_version": "1.2.0",
            "_view_name": "StyleView",
            "description_width": ""
          }
        },
        "a64d43b1c4a84e2691a7eb0fa2d4aada": {
          "model_module": "@jupyter-widgets/controls",
          "model_module_version": "1.5.0",
          "model_name": "HTMLModel",
          "state": {
            "_dom_classes": [],
            "_model_module": "@jupyter-widgets/controls",
            "_model_module_version": "1.5.0",
            "_model_name": "HTMLModel",
            "_view_count": null,
            "_view_module": "@jupyter-widgets/controls",
            "_view_module_version": "1.5.0",
            "_view_name": "HTMLView",
            "description": "",
            "description_tooltip": null,
            "layout": "IPY_MODEL_f73908c6b24a47b9b7126cd4d38de072",
            "placeholder": "​",
            "style": "IPY_MODEL_05667e126aea491ea710e47b26f18ddc",
            "value": "100%"
          }
        },
        "a69eeca0278748dfbc78c56bb7b7a17c": {
          "model_module": "@jupyter-widgets/controls",
          "model_module_version": "1.5.0",
          "model_name": "HBoxModel",
          "state": {
            "_dom_classes": [],
            "_model_module": "@jupyter-widgets/controls",
            "_model_module_version": "1.5.0",
            "_model_name": "HBoxModel",
            "_view_count": null,
            "_view_module": "@jupyter-widgets/controls",
            "_view_module_version": "1.5.0",
            "_view_name": "HBoxView",
            "box_style": "",
            "children": [
              "IPY_MODEL_a64d43b1c4a84e2691a7eb0fa2d4aada",
              "IPY_MODEL_dbdc99a1d1aa441bbc874f2ea73630d0",
              "IPY_MODEL_256dfb3cd25446499fe3b8f2db16f1db"
            ],
            "layout": "IPY_MODEL_39e6521e40794ead8a234fb919b50e18"
          }
        },
        "ab6839061aea4a1db082d14bb93d2490": {
          "model_module": "@jupyter-widgets/base",
          "model_module_version": "1.2.0",
          "model_name": "LayoutModel",
          "state": {
            "_model_module": "@jupyter-widgets/base",
            "_model_module_version": "1.2.0",
            "_model_name": "LayoutModel",
            "_view_count": null,
            "_view_module": "@jupyter-widgets/base",
            "_view_module_version": "1.2.0",
            "_view_name": "LayoutView",
            "align_content": null,
            "align_items": null,
            "align_self": null,
            "border": null,
            "bottom": null,
            "display": null,
            "flex": null,
            "flex_flow": null,
            "grid_area": null,
            "grid_auto_columns": null,
            "grid_auto_flow": null,
            "grid_auto_rows": null,
            "grid_column": null,
            "grid_gap": null,
            "grid_row": null,
            "grid_template_areas": null,
            "grid_template_columns": null,
            "grid_template_rows": null,
            "height": null,
            "justify_content": null,
            "justify_items": null,
            "left": null,
            "margin": null,
            "max_height": null,
            "max_width": null,
            "min_height": null,
            "min_width": null,
            "object_fit": null,
            "object_position": null,
            "order": null,
            "overflow": null,
            "overflow_x": null,
            "overflow_y": null,
            "padding": null,
            "right": null,
            "top": null,
            "visibility": null,
            "width": null
          }
        },
        "afdec27efcc143188adaa81216738649": {
          "model_module": "@jupyter-widgets/controls",
          "model_module_version": "1.5.0",
          "model_name": "DescriptionStyleModel",
          "state": {
            "_model_module": "@jupyter-widgets/controls",
            "_model_module_version": "1.5.0",
            "_model_name": "DescriptionStyleModel",
            "_view_count": null,
            "_view_module": "@jupyter-widgets/base",
            "_view_module_version": "1.2.0",
            "_view_name": "StyleView",
            "description_width": ""
          }
        },
        "b196981b68a74b01972f7de4ba311f87": {
          "model_module": "@jupyter-widgets/controls",
          "model_module_version": "1.5.0",
          "model_name": "ProgressStyleModel",
          "state": {
            "_model_module": "@jupyter-widgets/controls",
            "_model_module_version": "1.5.0",
            "_model_name": "ProgressStyleModel",
            "_view_count": null,
            "_view_module": "@jupyter-widgets/base",
            "_view_module_version": "1.2.0",
            "_view_name": "StyleView",
            "bar_color": null,
            "description_width": ""
          }
        },
        "b3b02ab758104a42b8de8cb9f5c9faf6": {
          "model_module": "@jupyter-widgets/controls",
          "model_module_version": "1.5.0",
          "model_name": "HTMLModel",
          "state": {
            "_dom_classes": [],
            "_model_module": "@jupyter-widgets/controls",
            "_model_module_version": "1.5.0",
            "_model_name": "HTMLModel",
            "_view_count": null,
            "_view_module": "@jupyter-widgets/controls",
            "_view_module_version": "1.5.0",
            "_view_name": "HTMLView",
            "description": "",
            "description_tooltip": null,
            "layout": "IPY_MODEL_8eaca10c8f024fab8952e1d96d85e4c7",
            "placeholder": "​",
            "style": "IPY_MODEL_5e13fe2dff02414b8111bf8d5c99da90",
            "value": " 100/100 [00:00&lt;00:00, 104.75it/s]"
          }
        },
        "b3f99abfd1394ea38a1eb1c927db1946": {
          "model_module": "@jupyter-widgets/controls",
          "model_module_version": "1.5.0",
          "model_name": "HBoxModel",
          "state": {
            "_dom_classes": [],
            "_model_module": "@jupyter-widgets/controls",
            "_model_module_version": "1.5.0",
            "_model_name": "HBoxModel",
            "_view_count": null,
            "_view_module": "@jupyter-widgets/controls",
            "_view_module_version": "1.5.0",
            "_view_name": "HBoxView",
            "box_style": "",
            "children": [
              "IPY_MODEL_9fe6ca403ce34a69959d7781a68b5737",
              "IPY_MODEL_31b90135fc5f4beaa93ba6c9f776baef",
              "IPY_MODEL_91d7628b68fc45a8870116bec5d8a426"
            ],
            "layout": "IPY_MODEL_cbe7c34cd70d46f7b9c3f143c9984887"
          }
        },
        "bdc0034dc36e47a3bdf7a542a0ca7be4": {
          "model_module": "@jupyter-widgets/controls",
          "model_module_version": "1.5.0",
          "model_name": "HBoxModel",
          "state": {
            "_dom_classes": [],
            "_model_module": "@jupyter-widgets/controls",
            "_model_module_version": "1.5.0",
            "_model_name": "HBoxModel",
            "_view_count": null,
            "_view_module": "@jupyter-widgets/controls",
            "_view_module_version": "1.5.0",
            "_view_name": "HBoxView",
            "box_style": "",
            "children": [
              "IPY_MODEL_9671e2c2647843cdbc9cc71843991788",
              "IPY_MODEL_8d3613a33a5b43619def24fe8c108e65",
              "IPY_MODEL_b3b02ab758104a42b8de8cb9f5c9faf6"
            ],
            "layout": "IPY_MODEL_a4475925392e45bbb67d168819f149dc"
          }
        },
        "be81164bc26f46ad850d57d2b0755586": {
          "model_module": "@jupyter-widgets/base",
          "model_module_version": "1.2.0",
          "model_name": "LayoutModel",
          "state": {
            "_model_module": "@jupyter-widgets/base",
            "_model_module_version": "1.2.0",
            "_model_name": "LayoutModel",
            "_view_count": null,
            "_view_module": "@jupyter-widgets/base",
            "_view_module_version": "1.2.0",
            "_view_name": "LayoutView",
            "align_content": null,
            "align_items": null,
            "align_self": null,
            "border": null,
            "bottom": null,
            "display": null,
            "flex": null,
            "flex_flow": null,
            "grid_area": null,
            "grid_auto_columns": null,
            "grid_auto_flow": null,
            "grid_auto_rows": null,
            "grid_column": null,
            "grid_gap": null,
            "grid_row": null,
            "grid_template_areas": null,
            "grid_template_columns": null,
            "grid_template_rows": null,
            "height": null,
            "justify_content": null,
            "justify_items": null,
            "left": null,
            "margin": null,
            "max_height": null,
            "max_width": null,
            "min_height": null,
            "min_width": null,
            "object_fit": null,
            "object_position": null,
            "order": null,
            "overflow": null,
            "overflow_x": null,
            "overflow_y": null,
            "padding": null,
            "right": null,
            "top": null,
            "visibility": null,
            "width": null
          }
        },
        "c082e8e1f45b4539bcd05e97c066d8c3": {
          "model_module": "@jupyter-widgets/controls",
          "model_module_version": "1.5.0",
          "model_name": "DescriptionStyleModel",
          "state": {
            "_model_module": "@jupyter-widgets/controls",
            "_model_module_version": "1.5.0",
            "_model_name": "DescriptionStyleModel",
            "_view_count": null,
            "_view_module": "@jupyter-widgets/base",
            "_view_module_version": "1.2.0",
            "_view_name": "StyleView",
            "description_width": ""
          }
        },
        "c94262041d4643b3b3ba4dd21898bf09": {
          "model_module": "@jupyter-widgets/controls",
          "model_module_version": "1.5.0",
          "model_name": "HTMLModel",
          "state": {
            "_dom_classes": [],
            "_model_module": "@jupyter-widgets/controls",
            "_model_module_version": "1.5.0",
            "_model_name": "HTMLModel",
            "_view_count": null,
            "_view_module": "@jupyter-widgets/controls",
            "_view_module_version": "1.5.0",
            "_view_name": "HTMLView",
            "description": "",
            "description_tooltip": null,
            "layout": "IPY_MODEL_1fe863a29c7d41e29859dbfef700c0fe",
            "placeholder": "​",
            "style": "IPY_MODEL_d1ea038686994da08a779a9476411084",
            "value": "100%"
          }
        },
        "cbe7c34cd70d46f7b9c3f143c9984887": {
          "model_module": "@jupyter-widgets/base",
          "model_module_version": "1.2.0",
          "model_name": "LayoutModel",
          "state": {
            "_model_module": "@jupyter-widgets/base",
            "_model_module_version": "1.2.0",
            "_model_name": "LayoutModel",
            "_view_count": null,
            "_view_module": "@jupyter-widgets/base",
            "_view_module_version": "1.2.0",
            "_view_name": "LayoutView",
            "align_content": null,
            "align_items": null,
            "align_self": null,
            "border": null,
            "bottom": null,
            "display": null,
            "flex": null,
            "flex_flow": null,
            "grid_area": null,
            "grid_auto_columns": null,
            "grid_auto_flow": null,
            "grid_auto_rows": null,
            "grid_column": null,
            "grid_gap": null,
            "grid_row": null,
            "grid_template_areas": null,
            "grid_template_columns": null,
            "grid_template_rows": null,
            "height": null,
            "justify_content": null,
            "justify_items": null,
            "left": null,
            "margin": null,
            "max_height": null,
            "max_width": null,
            "min_height": null,
            "min_width": null,
            "object_fit": null,
            "object_position": null,
            "order": null,
            "overflow": null,
            "overflow_x": null,
            "overflow_y": null,
            "padding": null,
            "right": null,
            "top": null,
            "visibility": null,
            "width": null
          }
        },
        "cf3e8fdf34c64eb99d52ddd6bdf55500": {
          "model_module": "@jupyter-widgets/base",
          "model_module_version": "1.2.0",
          "model_name": "LayoutModel",
          "state": {
            "_model_module": "@jupyter-widgets/base",
            "_model_module_version": "1.2.0",
            "_model_name": "LayoutModel",
            "_view_count": null,
            "_view_module": "@jupyter-widgets/base",
            "_view_module_version": "1.2.0",
            "_view_name": "LayoutView",
            "align_content": null,
            "align_items": null,
            "align_self": null,
            "border": null,
            "bottom": null,
            "display": null,
            "flex": null,
            "flex_flow": null,
            "grid_area": null,
            "grid_auto_columns": null,
            "grid_auto_flow": null,
            "grid_auto_rows": null,
            "grid_column": null,
            "grid_gap": null,
            "grid_row": null,
            "grid_template_areas": null,
            "grid_template_columns": null,
            "grid_template_rows": null,
            "height": null,
            "justify_content": null,
            "justify_items": null,
            "left": null,
            "margin": null,
            "max_height": null,
            "max_width": null,
            "min_height": null,
            "min_width": null,
            "object_fit": null,
            "object_position": null,
            "order": null,
            "overflow": null,
            "overflow_x": null,
            "overflow_y": null,
            "padding": null,
            "right": null,
            "top": null,
            "visibility": null,
            "width": null
          }
        },
        "d1ea038686994da08a779a9476411084": {
          "model_module": "@jupyter-widgets/controls",
          "model_module_version": "1.5.0",
          "model_name": "DescriptionStyleModel",
          "state": {
            "_model_module": "@jupyter-widgets/controls",
            "_model_module_version": "1.5.0",
            "_model_name": "DescriptionStyleModel",
            "_view_count": null,
            "_view_module": "@jupyter-widgets/base",
            "_view_module_version": "1.2.0",
            "_view_name": "StyleView",
            "description_width": ""
          }
        },
        "d369f8b9a2f14bdeb5d3f28617d24639": {
          "model_module": "@jupyter-widgets/base",
          "model_module_version": "1.2.0",
          "model_name": "LayoutModel",
          "state": {
            "_model_module": "@jupyter-widgets/base",
            "_model_module_version": "1.2.0",
            "_model_name": "LayoutModel",
            "_view_count": null,
            "_view_module": "@jupyter-widgets/base",
            "_view_module_version": "1.2.0",
            "_view_name": "LayoutView",
            "align_content": null,
            "align_items": null,
            "align_self": null,
            "border": null,
            "bottom": null,
            "display": null,
            "flex": null,
            "flex_flow": null,
            "grid_area": null,
            "grid_auto_columns": null,
            "grid_auto_flow": null,
            "grid_auto_rows": null,
            "grid_column": null,
            "grid_gap": null,
            "grid_row": null,
            "grid_template_areas": null,
            "grid_template_columns": null,
            "grid_template_rows": null,
            "height": null,
            "justify_content": null,
            "justify_items": null,
            "left": null,
            "margin": null,
            "max_height": null,
            "max_width": null,
            "min_height": null,
            "min_width": null,
            "object_fit": null,
            "object_position": null,
            "order": null,
            "overflow": null,
            "overflow_x": null,
            "overflow_y": null,
            "padding": null,
            "right": null,
            "top": null,
            "visibility": null,
            "width": null
          }
        },
        "d4ba4698ce4b4db3b8ee8da9cc38d5d3": {
          "model_module": "@jupyter-widgets/controls",
          "model_module_version": "1.5.0",
          "model_name": "HTMLModel",
          "state": {
            "_dom_classes": [],
            "_model_module": "@jupyter-widgets/controls",
            "_model_module_version": "1.5.0",
            "_model_name": "HTMLModel",
            "_view_count": null,
            "_view_module": "@jupyter-widgets/controls",
            "_view_module_version": "1.5.0",
            "_view_name": "HTMLView",
            "description": "",
            "description_tooltip": null,
            "layout": "IPY_MODEL_5db42a132e12422e9cd017ebdf5d84ba",
            "placeholder": "​",
            "style": "IPY_MODEL_a45d2f0e12a34fcdb312d31c0e5f1db2",
            "value": " 100/100 [00:03&lt;00:00, 41.50it/s]"
          }
        },
        "dbdc99a1d1aa441bbc874f2ea73630d0": {
          "model_module": "@jupyter-widgets/controls",
          "model_module_version": "1.5.0",
          "model_name": "FloatProgressModel",
          "state": {
            "_dom_classes": [],
            "_model_module": "@jupyter-widgets/controls",
            "_model_module_version": "1.5.0",
            "_model_name": "FloatProgressModel",
            "_view_count": null,
            "_view_module": "@jupyter-widgets/controls",
            "_view_module_version": "1.5.0",
            "_view_name": "ProgressView",
            "bar_style": "success",
            "description": "",
            "description_tooltip": null,
            "layout": "IPY_MODEL_605c935b7a314e12afba16888e57c58e",
            "max": 259,
            "min": 0,
            "orientation": "horizontal",
            "style": "IPY_MODEL_9f5967232fc348f9b1d63611b51e4ad5",
            "value": 259
          }
        },
        "e3b5a43aefc14d478b4280b2e2c962b2": {
          "model_module": "@jupyter-widgets/base",
          "model_module_version": "1.2.0",
          "model_name": "LayoutModel",
          "state": {
            "_model_module": "@jupyter-widgets/base",
            "_model_module_version": "1.2.0",
            "_model_name": "LayoutModel",
            "_view_count": null,
            "_view_module": "@jupyter-widgets/base",
            "_view_module_version": "1.2.0",
            "_view_name": "LayoutView",
            "align_content": null,
            "align_items": null,
            "align_self": null,
            "border": null,
            "bottom": null,
            "display": null,
            "flex": null,
            "flex_flow": null,
            "grid_area": null,
            "grid_auto_columns": null,
            "grid_auto_flow": null,
            "grid_auto_rows": null,
            "grid_column": null,
            "grid_gap": null,
            "grid_row": null,
            "grid_template_areas": null,
            "grid_template_columns": null,
            "grid_template_rows": null,
            "height": null,
            "justify_content": null,
            "justify_items": null,
            "left": null,
            "margin": null,
            "max_height": null,
            "max_width": null,
            "min_height": null,
            "min_width": null,
            "object_fit": null,
            "object_position": null,
            "order": null,
            "overflow": null,
            "overflow_x": null,
            "overflow_y": null,
            "padding": null,
            "right": null,
            "top": null,
            "visibility": null,
            "width": null
          }
        },
        "e5cba61d864e416d986d0e33a9164560": {
          "model_module": "@jupyter-widgets/controls",
          "model_module_version": "1.5.0",
          "model_name": "ProgressStyleModel",
          "state": {
            "_model_module": "@jupyter-widgets/controls",
            "_model_module_version": "1.5.0",
            "_model_name": "ProgressStyleModel",
            "_view_count": null,
            "_view_module": "@jupyter-widgets/base",
            "_view_module_version": "1.2.0",
            "_view_name": "StyleView",
            "bar_color": null,
            "description_width": ""
          }
        },
        "e62dd16117264c5995ac6cc64f1e3442": {
          "model_module": "@jupyter-widgets/controls",
          "model_module_version": "1.5.0",
          "model_name": "FloatProgressModel",
          "state": {
            "_dom_classes": [],
            "_model_module": "@jupyter-widgets/controls",
            "_model_module_version": "1.5.0",
            "_model_name": "FloatProgressModel",
            "_view_count": null,
            "_view_module": "@jupyter-widgets/controls",
            "_view_module_version": "1.5.0",
            "_view_name": "ProgressView",
            "bar_style": "success",
            "description": "",
            "description_tooltip": null,
            "layout": "IPY_MODEL_7bf8676ed1f041f8bd2d438acde920ba",
            "max": 100,
            "min": 0,
            "orientation": "horizontal",
            "style": "IPY_MODEL_b196981b68a74b01972f7de4ba311f87",
            "value": 100
          }
        },
        "efb5f65e71d840f9b41d31762414d9ea": {
          "model_module": "@jupyter-widgets/controls",
          "model_module_version": "1.5.0",
          "model_name": "DescriptionStyleModel",
          "state": {
            "_model_module": "@jupyter-widgets/controls",
            "_model_module_version": "1.5.0",
            "_model_name": "DescriptionStyleModel",
            "_view_count": null,
            "_view_module": "@jupyter-widgets/base",
            "_view_module_version": "1.2.0",
            "_view_name": "StyleView",
            "description_width": ""
          }
        },
        "f1ae5ac6a28b4c86b49419329f730783": {
          "model_module": "@jupyter-widgets/base",
          "model_module_version": "1.2.0",
          "model_name": "LayoutModel",
          "state": {
            "_model_module": "@jupyter-widgets/base",
            "_model_module_version": "1.2.0",
            "_model_name": "LayoutModel",
            "_view_count": null,
            "_view_module": "@jupyter-widgets/base",
            "_view_module_version": "1.2.0",
            "_view_name": "LayoutView",
            "align_content": null,
            "align_items": null,
            "align_self": null,
            "border": null,
            "bottom": null,
            "display": null,
            "flex": null,
            "flex_flow": null,
            "grid_area": null,
            "grid_auto_columns": null,
            "grid_auto_flow": null,
            "grid_auto_rows": null,
            "grid_column": null,
            "grid_gap": null,
            "grid_row": null,
            "grid_template_areas": null,
            "grid_template_columns": null,
            "grid_template_rows": null,
            "height": null,
            "justify_content": null,
            "justify_items": null,
            "left": null,
            "margin": null,
            "max_height": null,
            "max_width": null,
            "min_height": null,
            "min_width": null,
            "object_fit": null,
            "object_position": null,
            "order": null,
            "overflow": null,
            "overflow_x": null,
            "overflow_y": null,
            "padding": null,
            "right": null,
            "top": null,
            "visibility": null,
            "width": null
          }
        },
        "f262affb5f244f04aef08fbf08751d38": {
          "model_module": "@jupyter-widgets/base",
          "model_module_version": "1.2.0",
          "model_name": "LayoutModel",
          "state": {
            "_model_module": "@jupyter-widgets/base",
            "_model_module_version": "1.2.0",
            "_model_name": "LayoutModel",
            "_view_count": null,
            "_view_module": "@jupyter-widgets/base",
            "_view_module_version": "1.2.0",
            "_view_name": "LayoutView",
            "align_content": null,
            "align_items": null,
            "align_self": null,
            "border": null,
            "bottom": null,
            "display": null,
            "flex": null,
            "flex_flow": null,
            "grid_area": null,
            "grid_auto_columns": null,
            "grid_auto_flow": null,
            "grid_auto_rows": null,
            "grid_column": null,
            "grid_gap": null,
            "grid_row": null,
            "grid_template_areas": null,
            "grid_template_columns": null,
            "grid_template_rows": null,
            "height": null,
            "justify_content": null,
            "justify_items": null,
            "left": null,
            "margin": null,
            "max_height": null,
            "max_width": null,
            "min_height": null,
            "min_width": null,
            "object_fit": null,
            "object_position": null,
            "order": null,
            "overflow": null,
            "overflow_x": null,
            "overflow_y": null,
            "padding": null,
            "right": null,
            "top": null,
            "visibility": null,
            "width": null
          }
        },
        "f2bed39e73ab4e749843410ffc21e71d": {
          "model_module": "@jupyter-widgets/controls",
          "model_module_version": "1.5.0",
          "model_name": "ProgressStyleModel",
          "state": {
            "_model_module": "@jupyter-widgets/controls",
            "_model_module_version": "1.5.0",
            "_model_name": "ProgressStyleModel",
            "_view_count": null,
            "_view_module": "@jupyter-widgets/base",
            "_view_module_version": "1.2.0",
            "_view_name": "StyleView",
            "bar_color": null,
            "description_width": ""
          }
        },
        "f73908c6b24a47b9b7126cd4d38de072": {
          "model_module": "@jupyter-widgets/base",
          "model_module_version": "1.2.0",
          "model_name": "LayoutModel",
          "state": {
            "_model_module": "@jupyter-widgets/base",
            "_model_module_version": "1.2.0",
            "_model_name": "LayoutModel",
            "_view_count": null,
            "_view_module": "@jupyter-widgets/base",
            "_view_module_version": "1.2.0",
            "_view_name": "LayoutView",
            "align_content": null,
            "align_items": null,
            "align_self": null,
            "border": null,
            "bottom": null,
            "display": null,
            "flex": null,
            "flex_flow": null,
            "grid_area": null,
            "grid_auto_columns": null,
            "grid_auto_flow": null,
            "grid_auto_rows": null,
            "grid_column": null,
            "grid_gap": null,
            "grid_row": null,
            "grid_template_areas": null,
            "grid_template_columns": null,
            "grid_template_rows": null,
            "height": null,
            "justify_content": null,
            "justify_items": null,
            "left": null,
            "margin": null,
            "max_height": null,
            "max_width": null,
            "min_height": null,
            "min_width": null,
            "object_fit": null,
            "object_position": null,
            "order": null,
            "overflow": null,
            "overflow_x": null,
            "overflow_y": null,
            "padding": null,
            "right": null,
            "top": null,
            "visibility": null,
            "width": null
          }
        },
        "f7bee36f9ab541dbab6c00c1ce130262": {
          "model_module": "@jupyter-widgets/controls",
          "model_module_version": "1.5.0",
          "model_name": "DescriptionStyleModel",
          "state": {
            "_model_module": "@jupyter-widgets/controls",
            "_model_module_version": "1.5.0",
            "_model_name": "DescriptionStyleModel",
            "_view_count": null,
            "_view_module": "@jupyter-widgets/base",
            "_view_module_version": "1.2.0",
            "_view_name": "StyleView",
            "description_width": ""
          }
        },
        "f918aa9100d146a389126e3603e7563b": {
          "model_module": "@jupyter-widgets/controls",
          "model_module_version": "1.5.0",
          "model_name": "DescriptionStyleModel",
          "state": {
            "_model_module": "@jupyter-widgets/controls",
            "_model_module_version": "1.5.0",
            "_model_name": "DescriptionStyleModel",
            "_view_count": null,
            "_view_module": "@jupyter-widgets/base",
            "_view_module_version": "1.2.0",
            "_view_name": "StyleView",
            "description_width": ""
          }
        },
        "fa917db5ec2a4edcac34ed59054e0189": {
          "model_module": "@jupyter-widgets/base",
          "model_module_version": "1.2.0",
          "model_name": "LayoutModel",
          "state": {
            "_model_module": "@jupyter-widgets/base",
            "_model_module_version": "1.2.0",
            "_model_name": "LayoutModel",
            "_view_count": null,
            "_view_module": "@jupyter-widgets/base",
            "_view_module_version": "1.2.0",
            "_view_name": "LayoutView",
            "align_content": null,
            "align_items": null,
            "align_self": null,
            "border": null,
            "bottom": null,
            "display": null,
            "flex": null,
            "flex_flow": null,
            "grid_area": null,
            "grid_auto_columns": null,
            "grid_auto_flow": null,
            "grid_auto_rows": null,
            "grid_column": null,
            "grid_gap": null,
            "grid_row": null,
            "grid_template_areas": null,
            "grid_template_columns": null,
            "grid_template_rows": null,
            "height": null,
            "justify_content": null,
            "justify_items": null,
            "left": null,
            "margin": null,
            "max_height": null,
            "max_width": null,
            "min_height": null,
            "min_width": null,
            "object_fit": null,
            "object_position": null,
            "order": null,
            "overflow": null,
            "overflow_x": null,
            "overflow_y": null,
            "padding": null,
            "right": null,
            "top": null,
            "visibility": null,
            "width": null
          }
        },
        "fb393a0e34cc4393be9b255352fbc1eb": {
          "model_module": "@jupyter-widgets/base",
          "model_module_version": "1.2.0",
          "model_name": "LayoutModel",
          "state": {
            "_model_module": "@jupyter-widgets/base",
            "_model_module_version": "1.2.0",
            "_model_name": "LayoutModel",
            "_view_count": null,
            "_view_module": "@jupyter-widgets/base",
            "_view_module_version": "1.2.0",
            "_view_name": "LayoutView",
            "align_content": null,
            "align_items": null,
            "align_self": null,
            "border": null,
            "bottom": null,
            "display": null,
            "flex": null,
            "flex_flow": null,
            "grid_area": null,
            "grid_auto_columns": null,
            "grid_auto_flow": null,
            "grid_auto_rows": null,
            "grid_column": null,
            "grid_gap": null,
            "grid_row": null,
            "grid_template_areas": null,
            "grid_template_columns": null,
            "grid_template_rows": null,
            "height": null,
            "justify_content": null,
            "justify_items": null,
            "left": null,
            "margin": null,
            "max_height": null,
            "max_width": null,
            "min_height": null,
            "min_width": null,
            "object_fit": null,
            "object_position": null,
            "order": null,
            "overflow": null,
            "overflow_x": null,
            "overflow_y": null,
            "padding": null,
            "right": null,
            "top": null,
            "visibility": null,
            "width": null
          }
        }
      }
    }
  },
  "nbformat": 4,
  "nbformat_minor": 0
}
